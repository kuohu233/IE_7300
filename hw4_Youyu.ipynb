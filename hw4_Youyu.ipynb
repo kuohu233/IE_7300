{
 "cells": [
  {
   "cell_type": "markdown",
   "metadata": {},
   "source": [
    "<center>IE 7300: Statistical Learning for Engineering</center>"
   ]
  },
  {
   "cell_type": "markdown",
   "metadata": {},
   "source": [
    "### <center>HW 4</center>\n",
    "<center>Youyu Zhang</center>\n",
    "<center>zhang.youy@northeastern.edu</center>\n",
    "<center>(530)574-2826</center>"
   ]
  },
  {
   "cell_type": "markdown",
   "metadata": {},
   "source": [
    "1. Create a custom logistic regression model using the following dataset (20 points)\n",
    "The data is sourced from study of Abalone in Tasmania. It can be found at the UCI Machine Learning RepositoryLinks to an external site.. The dataset contains 4,141 observations and 10 variables.\n",
    "\n",
    "SEX = M (male), F (female), I (infant)\n",
    "\n",
    "LENGTH = Longest shell length in mm\n",
    "\n",
    "DIAM = Diameter perpendicular to length in mm\n",
    "\n",
    "HEIGHT = Height perpendicular to length and diameter in mm\n",
    "\n",
    "WHOLE = Whole weight of abalone in grams\n",
    "\n",
    "SHUCK = Shucked weight of meat in grams\n",
    "\n",
    "VISCERA = Viscera weight in grams\n",
    "\n",
    "SHELL = Shell weight after drying in grams\n",
    "\n",
    "RINGS = Age (+1.5 gives the age in years)\n",
    "\n",
    "CLASS = Age classification from 1 to 6 (A1= youngest,..., A6=oldest)"
   ]
  },
  {
   "cell_type": "code",
   "execution_count": 159,
   "metadata": {},
   "outputs": [],
   "source": [
    "import numpy as np\n",
    "import pandas as pd\n",
    "import seaborn as sns\n",
    "import matplotlib.pyplot as plt"
   ]
  },
  {
   "cell_type": "code",
   "execution_count": 160,
   "metadata": {},
   "outputs": [
    {
     "data": {
      "text/html": [
       "<div>\n",
       "<style scoped>\n",
       "    .dataframe tbody tr th:only-of-type {\n",
       "        vertical-align: middle;\n",
       "    }\n",
       "\n",
       "    .dataframe tbody tr th {\n",
       "        vertical-align: top;\n",
       "    }\n",
       "\n",
       "    .dataframe thead th {\n",
       "        text-align: right;\n",
       "    }\n",
       "</style>\n",
       "<table border=\"1\" class=\"dataframe\">\n",
       "  <thead>\n",
       "    <tr style=\"text-align: right;\">\n",
       "      <th></th>\n",
       "      <th>Sex</th>\n",
       "      <th>Length</th>\n",
       "      <th>Diameter</th>\n",
       "      <th>Height</th>\n",
       "      <th>Whole</th>\n",
       "      <th>Shuck</th>\n",
       "      <th>Viscera</th>\n",
       "      <th>Shell</th>\n",
       "      <th>Rings</th>\n",
       "    </tr>\n",
       "  </thead>\n",
       "  <tbody>\n",
       "    <tr>\n",
       "      <th>0</th>\n",
       "      <td>M</td>\n",
       "      <td>0.455</td>\n",
       "      <td>0.365</td>\n",
       "      <td>0.095</td>\n",
       "      <td>0.5140</td>\n",
       "      <td>0.2245</td>\n",
       "      <td>0.1010</td>\n",
       "      <td>0.1500</td>\n",
       "      <td>15</td>\n",
       "    </tr>\n",
       "    <tr>\n",
       "      <th>1</th>\n",
       "      <td>M</td>\n",
       "      <td>0.350</td>\n",
       "      <td>0.265</td>\n",
       "      <td>0.090</td>\n",
       "      <td>0.2255</td>\n",
       "      <td>0.0995</td>\n",
       "      <td>0.0485</td>\n",
       "      <td>0.0700</td>\n",
       "      <td>7</td>\n",
       "    </tr>\n",
       "    <tr>\n",
       "      <th>2</th>\n",
       "      <td>F</td>\n",
       "      <td>0.530</td>\n",
       "      <td>0.420</td>\n",
       "      <td>0.135</td>\n",
       "      <td>0.6770</td>\n",
       "      <td>0.2565</td>\n",
       "      <td>0.1415</td>\n",
       "      <td>0.2100</td>\n",
       "      <td>9</td>\n",
       "    </tr>\n",
       "    <tr>\n",
       "      <th>3</th>\n",
       "      <td>M</td>\n",
       "      <td>0.440</td>\n",
       "      <td>0.365</td>\n",
       "      <td>0.125</td>\n",
       "      <td>0.5160</td>\n",
       "      <td>0.2155</td>\n",
       "      <td>0.1140</td>\n",
       "      <td>0.1550</td>\n",
       "      <td>10</td>\n",
       "    </tr>\n",
       "    <tr>\n",
       "      <th>4</th>\n",
       "      <td>I</td>\n",
       "      <td>0.330</td>\n",
       "      <td>0.255</td>\n",
       "      <td>0.080</td>\n",
       "      <td>0.2050</td>\n",
       "      <td>0.0895</td>\n",
       "      <td>0.0395</td>\n",
       "      <td>0.0550</td>\n",
       "      <td>7</td>\n",
       "    </tr>\n",
       "    <tr>\n",
       "      <th>...</th>\n",
       "      <td>...</td>\n",
       "      <td>...</td>\n",
       "      <td>...</td>\n",
       "      <td>...</td>\n",
       "      <td>...</td>\n",
       "      <td>...</td>\n",
       "      <td>...</td>\n",
       "      <td>...</td>\n",
       "      <td>...</td>\n",
       "    </tr>\n",
       "    <tr>\n",
       "      <th>4172</th>\n",
       "      <td>F</td>\n",
       "      <td>0.565</td>\n",
       "      <td>0.450</td>\n",
       "      <td>0.165</td>\n",
       "      <td>0.8870</td>\n",
       "      <td>0.3700</td>\n",
       "      <td>0.2390</td>\n",
       "      <td>0.2490</td>\n",
       "      <td>11</td>\n",
       "    </tr>\n",
       "    <tr>\n",
       "      <th>4173</th>\n",
       "      <td>M</td>\n",
       "      <td>0.590</td>\n",
       "      <td>0.440</td>\n",
       "      <td>0.135</td>\n",
       "      <td>0.9660</td>\n",
       "      <td>0.4390</td>\n",
       "      <td>0.2145</td>\n",
       "      <td>0.2605</td>\n",
       "      <td>10</td>\n",
       "    </tr>\n",
       "    <tr>\n",
       "      <th>4174</th>\n",
       "      <td>M</td>\n",
       "      <td>0.600</td>\n",
       "      <td>0.475</td>\n",
       "      <td>0.205</td>\n",
       "      <td>1.1760</td>\n",
       "      <td>0.5255</td>\n",
       "      <td>0.2875</td>\n",
       "      <td>0.3080</td>\n",
       "      <td>9</td>\n",
       "    </tr>\n",
       "    <tr>\n",
       "      <th>4175</th>\n",
       "      <td>F</td>\n",
       "      <td>0.625</td>\n",
       "      <td>0.485</td>\n",
       "      <td>0.150</td>\n",
       "      <td>1.0945</td>\n",
       "      <td>0.5310</td>\n",
       "      <td>0.2610</td>\n",
       "      <td>0.2960</td>\n",
       "      <td>10</td>\n",
       "    </tr>\n",
       "    <tr>\n",
       "      <th>4176</th>\n",
       "      <td>M</td>\n",
       "      <td>0.710</td>\n",
       "      <td>0.555</td>\n",
       "      <td>0.195</td>\n",
       "      <td>1.9485</td>\n",
       "      <td>0.9455</td>\n",
       "      <td>0.3765</td>\n",
       "      <td>0.4950</td>\n",
       "      <td>12</td>\n",
       "    </tr>\n",
       "  </tbody>\n",
       "</table>\n",
       "<p>4177 rows × 9 columns</p>\n",
       "</div>"
      ],
      "text/plain": [
       "     Sex  Length  Diameter  Height   Whole   Shuck  Viscera   Shell  Rings\n",
       "0      M   0.455     0.365   0.095  0.5140  0.2245   0.1010  0.1500     15\n",
       "1      M   0.350     0.265   0.090  0.2255  0.0995   0.0485  0.0700      7\n",
       "2      F   0.530     0.420   0.135  0.6770  0.2565   0.1415  0.2100      9\n",
       "3      M   0.440     0.365   0.125  0.5160  0.2155   0.1140  0.1550     10\n",
       "4      I   0.330     0.255   0.080  0.2050  0.0895   0.0395  0.0550      7\n",
       "...   ..     ...       ...     ...     ...     ...      ...     ...    ...\n",
       "4172   F   0.565     0.450   0.165  0.8870  0.3700   0.2390  0.2490     11\n",
       "4173   M   0.590     0.440   0.135  0.9660  0.4390   0.2145  0.2605     10\n",
       "4174   M   0.600     0.475   0.205  1.1760  0.5255   0.2875  0.3080      9\n",
       "4175   F   0.625     0.485   0.150  1.0945  0.5310   0.2610  0.2960     10\n",
       "4176   M   0.710     0.555   0.195  1.9485  0.9455   0.3765  0.4950     12\n",
       "\n",
       "[4177 rows x 9 columns]"
      ]
     },
     "execution_count": 160,
     "metadata": {},
     "output_type": "execute_result"
    }
   ],
   "source": [
    "filepath = \"abalone.data\"\n",
    "col = [\"Sex\",\"Length\",\"Diameter\",\"Height\",\"Whole\",\"Shuck\",\"Viscera\",\"Shell\",\"Rings\"]\n",
    "data = pd.read_csv(filepath, delimiter=\",\",names=col)\n",
    "data"
   ]
  },
  {
   "cell_type": "markdown",
   "metadata": {},
   "source": [
    "Classifing the samples by age (rings+1.5), I use the mean and standard deviation as a reference."
   ]
  },
  {
   "cell_type": "code",
   "execution_count": 161,
   "metadata": {},
   "outputs": [
    {
     "name": "stderr",
     "output_type": "stream",
     "text": [
      "c:\\Users\\youyu\\AppData\\Local\\Programs\\Python\\Python38\\lib\\site-packages\\seaborn\\distributions.py:2619: FutureWarning: `distplot` is a deprecated function and will be removed in a future version. Please adapt your code to use either `displot` (a figure-level function with similar flexibility) or `histplot` (an axes-level function for histograms).\n",
      "  warnings.warn(msg, FutureWarning)\n"
     ]
    },
    {
     "data": {
      "text/plain": [
       "<AxesSubplot:xlabel='Age', ylabel='Density'>"
      ]
     },
     "execution_count": 161,
     "metadata": {},
     "output_type": "execute_result"
    },
    {
     "data": {
      "image/png": "[encoded data removed]",
      "text/plain": [
       "<Figure size 432x288 with 1 Axes>"
      ]
     },
     "metadata": {
      "needs_background": "light"
     },
     "output_type": "display_data"
    }
   ],
   "source": [
    "data['Age'] = data['Rings']+1.5\n",
    "sns.distplot(data['Age'])"
   ]
  },
  {
   "cell_type": "code",
   "execution_count": 162,
   "metadata": {},
   "outputs": [
    {
     "name": "stderr",
     "output_type": "stream",
     "text": [
      "C:\\Users\\youyu\\AppData\\Local\\Temp/ipykernel_29260/3549557492.py:8: SettingWithCopyWarning: \n",
      "A value is trying to be set on a copy of a slice from a DataFrame\n",
      "\n",
      "See the caveats in the documentation: https://pandas.pydata.org/pandas-docs/stable/user_guide/indexing.html#returning-a-view-versus-a-copy\n",
      "  data['Class'][(data['Age']>=age_mean-2*age_std)&(data['Age']<age_mean-age_std)] = \"A2\"\n",
      "C:\\Users\\youyu\\AppData\\Local\\Temp/ipykernel_29260/3549557492.py:9: SettingWithCopyWarning: \n",
      "A value is trying to be set on a copy of a slice from a DataFrame\n",
      "\n",
      "See the caveats in the documentation: https://pandas.pydata.org/pandas-docs/stable/user_guide/indexing.html#returning-a-view-versus-a-copy\n",
      "  data['Color'][(data['Age']>=age_mean-2*age_std)&(data['Age']<age_mean-age_std)] = color[1]\n",
      "C:\\Users\\youyu\\AppData\\Local\\Temp/ipykernel_29260/3549557492.py:10: SettingWithCopyWarning: \n",
      "A value is trying to be set on a copy of a slice from a DataFrame\n",
      "\n",
      "See the caveats in the documentation: https://pandas.pydata.org/pandas-docs/stable/user_guide/indexing.html#returning-a-view-versus-a-copy\n",
      "  data['Class'][(data['Age']>=age_mean-age_std)&(data['Age']<age_mean)] = \"A3\"\n",
      "C:\\Users\\youyu\\AppData\\Local\\Temp/ipykernel_29260/3549557492.py:11: SettingWithCopyWarning: \n",
      "A value is trying to be set on a copy of a slice from a DataFrame\n",
      "\n",
      "See the caveats in the documentation: https://pandas.pydata.org/pandas-docs/stable/user_guide/indexing.html#returning-a-view-versus-a-copy\n",
      "  data['Color'][(data['Age']>=age_mean-age_std)&(data['Age']<age_mean)] = color[2]\n",
      "C:\\Users\\youyu\\AppData\\Local\\Temp/ipykernel_29260/3549557492.py:12: SettingWithCopyWarning: \n",
      "A value is trying to be set on a copy of a slice from a DataFrame\n",
      "\n",
      "See the caveats in the documentation: https://pandas.pydata.org/pandas-docs/stable/user_guide/indexing.html#returning-a-view-versus-a-copy\n",
      "  data['Class'][(data['Age']>=age_mean)&(data['Age']<age_mean+age_std)] = \"A4\"\n",
      "C:\\Users\\youyu\\AppData\\Local\\Temp/ipykernel_29260/3549557492.py:13: SettingWithCopyWarning: \n",
      "A value is trying to be set on a copy of a slice from a DataFrame\n",
      "\n",
      "See the caveats in the documentation: https://pandas.pydata.org/pandas-docs/stable/user_guide/indexing.html#returning-a-view-versus-a-copy\n",
      "  data['Color'][(data['Age']>=age_mean)&(data['Age']<age_mean+age_std)] = color[3]\n",
      "C:\\Users\\youyu\\AppData\\Local\\Temp/ipykernel_29260/3549557492.py:14: SettingWithCopyWarning: \n",
      "A value is trying to be set on a copy of a slice from a DataFrame\n",
      "\n",
      "See the caveats in the documentation: https://pandas.pydata.org/pandas-docs/stable/user_guide/indexing.html#returning-a-view-versus-a-copy\n",
      "  data['Class'][(data['Age']>=age_mean+age_std)&(data['Age']<age_mean+2*age_std)] = \"A5\"\n",
      "C:\\Users\\youyu\\AppData\\Local\\Temp/ipykernel_29260/3549557492.py:15: SettingWithCopyWarning: \n",
      "A value is trying to be set on a copy of a slice from a DataFrame\n",
      "\n",
      "See the caveats in the documentation: https://pandas.pydata.org/pandas-docs/stable/user_guide/indexing.html#returning-a-view-versus-a-copy\n",
      "  data['Color'][(data['Age']>=age_mean+age_std)&(data['Age']<age_mean+2*age_std)] = color[4]\n",
      "C:\\Users\\youyu\\AppData\\Local\\Temp/ipykernel_29260/3549557492.py:16: SettingWithCopyWarning: \n",
      "A value is trying to be set on a copy of a slice from a DataFrame\n",
      "\n",
      "See the caveats in the documentation: https://pandas.pydata.org/pandas-docs/stable/user_guide/indexing.html#returning-a-view-versus-a-copy\n",
      "  data['Class'][(data['Age']>=age_mean+2*age_std)] = \"A6\"\n",
      "C:\\Users\\youyu\\AppData\\Local\\Temp/ipykernel_29260/3549557492.py:17: SettingWithCopyWarning: \n",
      "A value is trying to be set on a copy of a slice from a DataFrame\n",
      "\n",
      "See the caveats in the documentation: https://pandas.pydata.org/pandas-docs/stable/user_guide/indexing.html#returning-a-view-versus-a-copy\n",
      "  data['Color'][(data['Age']>=age_mean+2*age_std)] = color[5]\n",
      "C:\\Users\\youyu\\AppData\\Local\\Temp/ipykernel_29260/3549557492.py:20: SettingWithCopyWarning: \n",
      "A value is trying to be set on a copy of a slice from a DataFrame\n",
      "\n",
      "See the caveats in the documentation: https://pandas.pydata.org/pandas-docs/stable/user_guide/indexing.html#returning-a-view-versus-a-copy\n",
      "  data['Sex'][data['Sex']=='M'] = 1\n",
      "C:\\Users\\youyu\\AppData\\Local\\Temp/ipykernel_29260/3549557492.py:21: SettingWithCopyWarning: \n",
      "A value is trying to be set on a copy of a slice from a DataFrame\n",
      "\n",
      "See the caveats in the documentation: https://pandas.pydata.org/pandas-docs/stable/user_guide/indexing.html#returning-a-view-versus-a-copy\n",
      "  data['Sex'][data['Sex']=='F'] = 2\n",
      "C:\\Users\\youyu\\AppData\\Local\\Temp/ipykernel_29260/3549557492.py:22: SettingWithCopyWarning: \n",
      "A value is trying to be set on a copy of a slice from a DataFrame\n",
      "\n",
      "See the caveats in the documentation: https://pandas.pydata.org/pandas-docs/stable/user_guide/indexing.html#returning-a-view-versus-a-copy\n",
      "  data['Sex'][data['Sex']=='I'] = 0\n"
     ]
    },
    {
     "data": {
      "text/html": [
       "<div>\n",
       "<style scoped>\n",
       "    .dataframe tbody tr th:only-of-type {\n",
       "        vertical-align: middle;\n",
       "    }\n",
       "\n",
       "    .dataframe tbody tr th {\n",
       "        vertical-align: top;\n",
       "    }\n",
       "\n",
       "    .dataframe thead th {\n",
       "        text-align: right;\n",
       "    }\n",
       "</style>\n",
       "<table border=\"1\" class=\"dataframe\">\n",
       "  <thead>\n",
       "    <tr style=\"text-align: right;\">\n",
       "      <th></th>\n",
       "      <th>Sex</th>\n",
       "      <th>Length</th>\n",
       "      <th>Diameter</th>\n",
       "      <th>Height</th>\n",
       "      <th>Whole</th>\n",
       "      <th>Shuck</th>\n",
       "      <th>Viscera</th>\n",
       "      <th>Shell</th>\n",
       "      <th>Rings</th>\n",
       "      <th>Age</th>\n",
       "      <th>Class</th>\n",
       "      <th>Color</th>\n",
       "    </tr>\n",
       "  </thead>\n",
       "  <tbody>\n",
       "    <tr>\n",
       "      <th>0</th>\n",
       "      <td>1</td>\n",
       "      <td>0.455</td>\n",
       "      <td>0.365</td>\n",
       "      <td>0.095</td>\n",
       "      <td>0.5140</td>\n",
       "      <td>0.2245</td>\n",
       "      <td>0.1010</td>\n",
       "      <td>0.1500</td>\n",
       "      <td>15</td>\n",
       "      <td>16.5</td>\n",
       "      <td>A5</td>\n",
       "      <td>#9467bd</td>\n",
       "    </tr>\n",
       "    <tr>\n",
       "      <th>1</th>\n",
       "      <td>1</td>\n",
       "      <td>0.350</td>\n",
       "      <td>0.265</td>\n",
       "      <td>0.090</td>\n",
       "      <td>0.2255</td>\n",
       "      <td>0.0995</td>\n",
       "      <td>0.0485</td>\n",
       "      <td>0.0700</td>\n",
       "      <td>7</td>\n",
       "      <td>8.5</td>\n",
       "      <td>A3</td>\n",
       "      <td>#2ca02c</td>\n",
       "    </tr>\n",
       "    <tr>\n",
       "      <th>2</th>\n",
       "      <td>2</td>\n",
       "      <td>0.530</td>\n",
       "      <td>0.420</td>\n",
       "      <td>0.135</td>\n",
       "      <td>0.6770</td>\n",
       "      <td>0.2565</td>\n",
       "      <td>0.1415</td>\n",
       "      <td>0.2100</td>\n",
       "      <td>9</td>\n",
       "      <td>10.5</td>\n",
       "      <td>A3</td>\n",
       "      <td>#2ca02c</td>\n",
       "    </tr>\n",
       "    <tr>\n",
       "      <th>3</th>\n",
       "      <td>1</td>\n",
       "      <td>0.440</td>\n",
       "      <td>0.365</td>\n",
       "      <td>0.125</td>\n",
       "      <td>0.5160</td>\n",
       "      <td>0.2155</td>\n",
       "      <td>0.1140</td>\n",
       "      <td>0.1550</td>\n",
       "      <td>10</td>\n",
       "      <td>11.5</td>\n",
       "      <td>A4</td>\n",
       "      <td>#d62728</td>\n",
       "    </tr>\n",
       "    <tr>\n",
       "      <th>4</th>\n",
       "      <td>0</td>\n",
       "      <td>0.330</td>\n",
       "      <td>0.255</td>\n",
       "      <td>0.080</td>\n",
       "      <td>0.2050</td>\n",
       "      <td>0.0895</td>\n",
       "      <td>0.0395</td>\n",
       "      <td>0.0550</td>\n",
       "      <td>7</td>\n",
       "      <td>8.5</td>\n",
       "      <td>A3</td>\n",
       "      <td>#2ca02c</td>\n",
       "    </tr>\n",
       "    <tr>\n",
       "      <th>...</th>\n",
       "      <td>...</td>\n",
       "      <td>...</td>\n",
       "      <td>...</td>\n",
       "      <td>...</td>\n",
       "      <td>...</td>\n",
       "      <td>...</td>\n",
       "      <td>...</td>\n",
       "      <td>...</td>\n",
       "      <td>...</td>\n",
       "      <td>...</td>\n",
       "      <td>...</td>\n",
       "      <td>...</td>\n",
       "    </tr>\n",
       "    <tr>\n",
       "      <th>4172</th>\n",
       "      <td>2</td>\n",
       "      <td>0.565</td>\n",
       "      <td>0.450</td>\n",
       "      <td>0.165</td>\n",
       "      <td>0.8870</td>\n",
       "      <td>0.3700</td>\n",
       "      <td>0.2390</td>\n",
       "      <td>0.2490</td>\n",
       "      <td>11</td>\n",
       "      <td>12.5</td>\n",
       "      <td>A4</td>\n",
       "      <td>#d62728</td>\n",
       "    </tr>\n",
       "    <tr>\n",
       "      <th>4173</th>\n",
       "      <td>1</td>\n",
       "      <td>0.590</td>\n",
       "      <td>0.440</td>\n",
       "      <td>0.135</td>\n",
       "      <td>0.9660</td>\n",
       "      <td>0.4390</td>\n",
       "      <td>0.2145</td>\n",
       "      <td>0.2605</td>\n",
       "      <td>10</td>\n",
       "      <td>11.5</td>\n",
       "      <td>A4</td>\n",
       "      <td>#d62728</td>\n",
       "    </tr>\n",
       "    <tr>\n",
       "      <th>4174</th>\n",
       "      <td>1</td>\n",
       "      <td>0.600</td>\n",
       "      <td>0.475</td>\n",
       "      <td>0.205</td>\n",
       "      <td>1.1760</td>\n",
       "      <td>0.5255</td>\n",
       "      <td>0.2875</td>\n",
       "      <td>0.3080</td>\n",
       "      <td>9</td>\n",
       "      <td>10.5</td>\n",
       "      <td>A3</td>\n",
       "      <td>#2ca02c</td>\n",
       "    </tr>\n",
       "    <tr>\n",
       "      <th>4175</th>\n",
       "      <td>2</td>\n",
       "      <td>0.625</td>\n",
       "      <td>0.485</td>\n",
       "      <td>0.150</td>\n",
       "      <td>1.0945</td>\n",
       "      <td>0.5310</td>\n",
       "      <td>0.2610</td>\n",
       "      <td>0.2960</td>\n",
       "      <td>10</td>\n",
       "      <td>11.5</td>\n",
       "      <td>A4</td>\n",
       "      <td>#d62728</td>\n",
       "    </tr>\n",
       "    <tr>\n",
       "      <th>4176</th>\n",
       "      <td>1</td>\n",
       "      <td>0.710</td>\n",
       "      <td>0.555</td>\n",
       "      <td>0.195</td>\n",
       "      <td>1.9485</td>\n",
       "      <td>0.9455</td>\n",
       "      <td>0.3765</td>\n",
       "      <td>0.4950</td>\n",
       "      <td>12</td>\n",
       "      <td>13.5</td>\n",
       "      <td>A4</td>\n",
       "      <td>#d62728</td>\n",
       "    </tr>\n",
       "  </tbody>\n",
       "</table>\n",
       "<p>4177 rows × 12 columns</p>\n",
       "</div>"
      ],
      "text/plain": [
       "     Sex  Length  Diameter  Height   Whole   Shuck  Viscera   Shell  Rings  \\\n",
       "0      1   0.455     0.365   0.095  0.5140  0.2245   0.1010  0.1500     15   \n",
       "1      1   0.350     0.265   0.090  0.2255  0.0995   0.0485  0.0700      7   \n",
       "2      2   0.530     0.420   0.135  0.6770  0.2565   0.1415  0.2100      9   \n",
       "3      1   0.440     0.365   0.125  0.5160  0.2155   0.1140  0.1550     10   \n",
       "4      0   0.330     0.255   0.080  0.2050  0.0895   0.0395  0.0550      7   \n",
       "...   ..     ...       ...     ...     ...     ...      ...     ...    ...   \n",
       "4172   2   0.565     0.450   0.165  0.8870  0.3700   0.2390  0.2490     11   \n",
       "4173   1   0.590     0.440   0.135  0.9660  0.4390   0.2145  0.2605     10   \n",
       "4174   1   0.600     0.475   0.205  1.1760  0.5255   0.2875  0.3080      9   \n",
       "4175   2   0.625     0.485   0.150  1.0945  0.5310   0.2610  0.2960     10   \n",
       "4176   1   0.710     0.555   0.195  1.9485  0.9455   0.3765  0.4950     12   \n",
       "\n",
       "       Age Class    Color  \n",
       "0     16.5    A5  #9467bd  \n",
       "1      8.5    A3  #2ca02c  \n",
       "2     10.5    A3  #2ca02c  \n",
       "3     11.5    A4  #d62728  \n",
       "4      8.5    A3  #2ca02c  \n",
       "...    ...   ...      ...  \n",
       "4172  12.5    A4  #d62728  \n",
       "4173  11.5    A4  #d62728  \n",
       "4174  10.5    A3  #2ca02c  \n",
       "4175  11.5    A4  #d62728  \n",
       "4176  13.5    A4  #d62728  \n",
       "\n",
       "[4177 rows x 12 columns]"
      ]
     },
     "execution_count": 162,
     "metadata": {},
     "output_type": "execute_result"
    }
   ],
   "source": [
    "age_mean = data['Age'].mean()\n",
    "age_std = data['Age'].std()\n",
    "color = ['#1f77b4', '#ff7f0e', '#2ca02c', '#d62728', '#9467bd', '#8c564b']\n",
    "\n",
    "# Add classification and corresponding color for later process.\n",
    "data['Class'] = \"A1\"\n",
    "data['Color'] = color[0]\n",
    "data['Class'][(data['Age']>=age_mean-2*age_std)&(data['Age']<age_mean-age_std)] = \"A2\"\n",
    "data['Color'][(data['Age']>=age_mean-2*age_std)&(data['Age']<age_mean-age_std)] = color[1]\n",
    "data['Class'][(data['Age']>=age_mean-age_std)&(data['Age']<age_mean)] = \"A3\"\n",
    "data['Color'][(data['Age']>=age_mean-age_std)&(data['Age']<age_mean)] = color[2]\n",
    "data['Class'][(data['Age']>=age_mean)&(data['Age']<age_mean+age_std)] = \"A4\"\n",
    "data['Color'][(data['Age']>=age_mean)&(data['Age']<age_mean+age_std)] = color[3]\n",
    "data['Class'][(data['Age']>=age_mean+age_std)&(data['Age']<age_mean+2*age_std)] = \"A5\"\n",
    "data['Color'][(data['Age']>=age_mean+age_std)&(data['Age']<age_mean+2*age_std)] = color[4]\n",
    "data['Class'][(data['Age']>=age_mean+2*age_std)] = \"A6\"\n",
    "data['Color'][(data['Age']>=age_mean+2*age_std)] = color[5]\n",
    "\n",
    "# Convert column sex as a numerical variable.\n",
    "data['Sex'][data['Sex']=='M'] = 1\n",
    "data['Sex'][data['Sex']=='F'] = 2\n",
    "data['Sex'][data['Sex']=='I'] = 0\n",
    "data"
   ]
  },
  {
   "cell_type": "code",
   "execution_count": 163,
   "metadata": {},
   "outputs": [],
   "source": [
    "train_length = round(data.shape[0]*0.8)\n",
    "df_train = data.loc[0:train_length-1]\n",
    "df_test = data.loc[train_length:]\n",
    "\n",
    "x_train = df_train.drop(['Rings','Age','Class','Color'], axis=1).to_numpy()\n",
    "y_train = df_train['Class']\n",
    "\n",
    "x_test = df_test.drop(['Rings','Age','Class','Color'], axis=1).to_numpy()\n",
    "y_test = df_test['Class']"
   ]
  },
  {
   "cell_type": "markdown",
   "metadata": {},
   "source": [
    "b) Custom logistic regression model should be in python class format (Should have init(), predict(), train() methods) and train the model using training dataset"
   ]
  },
  {
   "cell_type": "code",
   "execution_count": 164,
   "metadata": {},
   "outputs": [],
   "source": [
    "class LogisticRegression:\n",
    "    def __init__(self, epochs: int=2000, threshold: float=1e-3) -> None:\n",
    "        self.epochs = epochs\n",
    "        self.threshold = threshold\n",
    "\n",
    "    def train(self, x, y, batch_size=64, lr=0.001):\n",
    "        self.classes = np.unique(y)\n",
    "        self.class_labels = {c:i for i,c in enumerate(self.classes)}\n",
    "        x = np.insert(x, 0, 1, axis=1)\n",
    "        y = np.eye(len(self.classes))[np.vectorize(lambda c: self.class_labels[c])(y).reshape(-1)]\n",
    "        self.loss = []\n",
    "        self.weights = np.zeros(shape=(len(self.classes),x.shape[1]))\n",
    "        i = 0\n",
    "        while (not self.epochs or i < self.epochs):\n",
    "            self.loss.append(self.cross_entropy(y, self.predict_(x)))\n",
    "            idx = np.random.choice(x.shape[0], batch_size)\n",
    "            x_batch, y_batch = x[idx], y[idx]\n",
    "            error = y_batch - self.predict_(x_batch)\n",
    "            update = (lr * np.dot(error.T, x_batch))\n",
    "            self.weights = np.add(self.weights, update)\n",
    "            # self.weights += update\n",
    "            if np.abs(update).max() < self.threshold: \n",
    "                break\n",
    "            if i % (self.epochs/5)  == 0: \n",
    "                print(' Training Accuray at {} iterations is {}'.format(i, self.evaluate_(x, y)))\n",
    "            i +=1\n",
    "        return self\n",
    "\n",
    "    def predict_(self, X):\n",
    "        pre_vals = np.dot(X, self.weights.T).reshape(-1,len(self.classes))\n",
    "        return self.softmax(pre_vals)\n",
    "    \n",
    "    def predict(self, x):\n",
    "        x = np.insert(x, 0, 1, axis=1)\n",
    "        pre_vals = np.dot(x, self.weights.T).reshape(-1,len(self.classes))\n",
    "        return self.softmax(pre_vals)\n",
    "    \n",
    "    def softmax(self, z):\n",
    "        return np.exp(z.astype(float))/np.sum(np.exp(z.astype(float)), axis=1).reshape(-1,1)\n",
    "    \n",
    "    def evaluate_(self, X, y):\n",
    "        return np.mean(np.argmax(self.predict_(X), axis=1) == np.argmax(y, axis=1))\n",
    "\n",
    "    def cross_entropy(self, y, probs):\n",
    "        return -1 * np.mean(y * np.log(probs))\n"
   ]
  },
  {
   "cell_type": "markdown",
   "metadata": {},
   "source": [
    "c) Predict the age category using test dataset, and provide some insights\n",
    "\n",
    "Following part is going to predict the category. The training parameters can be set to default values.\n",
    "\n",
    "For example, epoch=2000. When the update value less than the setup threshold, the epoch will also stop.\n",
    "\n",
    "We can see that when epoch>3000, training accuracy did not increase too much as it was in the previous epochs."
   ]
  },
  {
   "cell_type": "code",
   "execution_count": 165,
   "metadata": {},
   "outputs": [
    {
     "name": "stdout",
     "output_type": "stream",
     "text": [
      " Training Accuray at 0 iterations is 0.37552363853979653\n",
      " Training Accuray at 1000 iterations is 0.5173548773189707\n",
      " Training Accuray at 2000 iterations is 0.5397965290245362\n",
      " Training Accuray at 3000 iterations is 0.5508677438659485\n",
      " Training Accuray at 4000 iterations is 0.5580490724117295\n"
     ]
    },
    {
     "data": {
      "text/plain": [
       "<__main__.LogisticRegression at 0x2821615e460>"
      ]
     },
     "execution_count": 165,
     "metadata": {},
     "output_type": "execute_result"
    }
   ],
   "source": [
    "lr1 = LogisticRegression(epochs=5000)\n",
    "lr1.train(x_train,y_train)"
   ]
  },
  {
   "cell_type": "code",
   "execution_count": 166,
   "metadata": {},
   "outputs": [],
   "source": [
    "def category_pointer(y_cat, y_pred):\n",
    "    \"\"\"\n",
    "    This function translate numerical training result to categorical. \n",
    "    \"\"\"\n",
    "    ind = y_pred.argmax(axis=1)\n",
    "    y_class = []\n",
    "    y_pointer = list(enumerate(np.unique(y_cat)))\n",
    "    for i in range(len(ind)):\n",
    "        y_class.append(y_pointer[ind[i]][1])\n",
    "    return y_class\n",
    "\n",
    "y_pred_test = lr1.predict_(np.insert(x_test, 0, 1, axis=1))\n",
    "y_pred_test = category_pointer(y_cat=y_train,y_pred=y_pred_test)"
   ]
  },
  {
   "cell_type": "markdown",
   "metadata": {},
   "source": [
    "d) Show the predicted output, and loss function output plots, and explain the outcome\n",
    "\n",
    "This loss function change indicated that this model works as expected - reducing loss and getting closer to the accurate prediction.\n",
    "\n",
    "The result histogram indicated that only categories with large sample points are predicted. The categories which has fewer examples are not in the predict result. This could happen when the large population categories samples has overlapped attributes range with the small population categories. "
   ]
  },
  {
   "cell_type": "code",
   "execution_count": 167,
   "metadata": {},
   "outputs": [
    {
     "data": {
      "image/png": "[encoded data removed]",
      "text/plain": [
       "<Figure size 432x288 with 1 Axes>"
      ]
     },
     "metadata": {
      "needs_background": "light"
     },
     "output_type": "display_data"
    },
    {
     "data": {
      "image/png": "[encoded data removed]",
      "text/plain": [
       "<Figure size 432x288 with 2 Axes>"
      ]
     },
     "metadata": {
      "needs_background": "light"
     },
     "output_type": "display_data"
    }
   ],
   "source": [
    "plt.plot(lr1.loss)\n",
    "plt.title('Loss Function Change')\n",
    "plt.xlabel('Epochs')\n",
    "plt.ylabel('Entropy')\n",
    "plt.show()\n",
    "\n",
    "fig, ax = plt.subplots(1,2)\n",
    "ax[0].hist(data['Class'])\n",
    "ax[1].hist(y_pred_test)\n",
    "plt.title('Original Dataset And Prediction Categories Count')\n",
    "plt.show()"
   ]
  },
  {
   "cell_type": "markdown",
   "metadata": {},
   "source": [
    "e) Calculate the Confusion matrix and explain the model accuracy\n",
    "\n",
    "Confusion matrix indicated that most cases were correctly predicted. The cases in of the middle age has more successful prediction cases because the population was large. No extreme old or yound samples exist in this test dataset.\n",
    "\n",
    "A3 and A4 are the most confusing classes because they both are in middle age, large population, and the differences between them are not so obvious."
   ]
  },
  {
   "cell_type": "code",
   "execution_count": 168,
   "metadata": {},
   "outputs": [
    {
     "data": {
      "text/plain": [
       "array([[  0,   3,   0,   0,   0,   0],\n",
       "       [  0,  41,  50,   1,   0,   0],\n",
       "       [  0,   6, 240, 103,   0,   0],\n",
       "       [  0,   0, 104, 232,   0,   0],\n",
       "       [  0,   0,  16,  20,   0,   0],\n",
       "       [  0,   0,   4,  15,   0,   0]], dtype=int64)"
      ]
     },
     "execution_count": 168,
     "metadata": {},
     "output_type": "execute_result"
    }
   ],
   "source": [
    "from sklearn.metrics import confusion_matrix\n",
    "\n",
    "confusion_matrix(y_test,y_pred_test)"
   ]
  },
  {
   "cell_type": "markdown",
   "metadata": {},
   "source": [
    "2. Perform Principal component Analysis for the same dataset (15 points)"
   ]
  },
  {
   "cell_type": "code",
   "execution_count": 176,
   "metadata": {},
   "outputs": [],
   "source": [
    "class PCA:\n",
    "    def __init__(self, n_components):\n",
    "        \"\"\"\n",
    "        n_components: indicate top n components.\n",
    "        \"\"\"\n",
    "        self.n_components = n_components\n",
    "        self.components = None\n",
    "        self.mean = None\n",
    "\n",
    "    def fit(self, x):\n",
    "        self.mean = np.mean(x, axis=0)\n",
    "        x = x - self.mean\n",
    "        cov = np.cov(x.T.astype(float))\n",
    "\n",
    "        eigenvalues, eigenvectors = np.linalg.eig(cov)\n",
    "        eigenvectors = eigenvectors.T\n",
    "        idxs = np.argsort(eigenvalues)[::-1]\n",
    "        eigenvalues = eigenvalues[idxs]\n",
    "        eigenvectors = eigenvectors[idxs]\n",
    "        self.components = eigenvectors[0:self.n_components]\n",
    "\n",
    "    def transform(self, x):\n",
    "        x = x - self.mean\n",
    "        return np.dot(x, self.components.T)\n",
    "        "
   ]
  },
  {
   "cell_type": "markdown",
   "metadata": {},
   "source": [
    "a) Show top 3 of the PCA component output\n",
    "\n"
   ]
  },
  {
   "cell_type": "code",
   "execution_count": 177,
   "metadata": {},
   "outputs": [
    {
     "data": {
      "text/plain": [
       "array([[-0.87744065, -0.096913  , -0.08120762, -0.03115321, -0.40384116,\n",
       "        -0.17119429, -0.0890907 , -0.11317353],\n",
       "       [-0.47935655,  0.1616997 ,  0.13162168,  0.04662343,  0.73977672,\n",
       "         0.33754001,  0.15602073,  0.19755295],\n",
       "       [ 0.01582429, -0.28348613, -0.26436452, -0.12241118, -0.05663612,\n",
       "         0.72462768,  0.00354735, -0.55335937]])"
      ]
     },
     "execution_count": 177,
     "metadata": {},
     "output_type": "execute_result"
    }
   ],
   "source": [
    "pca = PCA(3)\n",
    "pca.fit(x_train)\n",
    "x_project = pca.transform(x_test)\n",
    "x1 = x_project[:, 0]\n",
    "x2 = x_project[:, 1]\n",
    "x3 = x_project[:, 2]\n",
    "\n",
    "pca.components"
   ]
  },
  {
   "cell_type": "code",
   "execution_count": 171,
   "metadata": {},
   "outputs": [
    {
     "data": {
      "text/html": [
       "<div>\n",
       "<style scoped>\n",
       "    .dataframe tbody tr th:only-of-type {\n",
       "        vertical-align: middle;\n",
       "    }\n",
       "\n",
       "    .dataframe tbody tr th {\n",
       "        vertical-align: top;\n",
       "    }\n",
       "\n",
       "    .dataframe thead th {\n",
       "        text-align: right;\n",
       "    }\n",
       "</style>\n",
       "<table border=\"1\" class=\"dataframe\">\n",
       "  <thead>\n",
       "    <tr style=\"text-align: right;\">\n",
       "      <th></th>\n",
       "      <th>x1</th>\n",
       "      <th>x2</th>\n",
       "      <th>x3</th>\n",
       "    </tr>\n",
       "  </thead>\n",
       "  <tbody>\n",
       "    <tr>\n",
       "      <th>0</th>\n",
       "      <td>0.281147</td>\n",
       "      <td>-0.495878</td>\n",
       "      <td>-0.013759</td>\n",
       "    </tr>\n",
       "    <tr>\n",
       "      <th>1</th>\n",
       "      <td>-0.625177</td>\n",
       "      <td>-0.922591</td>\n",
       "      <td>-0.006249</td>\n",
       "    </tr>\n",
       "    <tr>\n",
       "      <th>2</th>\n",
       "      <td>1.056076</td>\n",
       "      <td>0.168829</td>\n",
       "      <td>-0.101029</td>\n",
       "    </tr>\n",
       "    <tr>\n",
       "      <th>3</th>\n",
       "      <td>-0.743266</td>\n",
       "      <td>-0.707322</td>\n",
       "      <td>-0.03788</td>\n",
       "    </tr>\n",
       "    <tr>\n",
       "      <th>4</th>\n",
       "      <td>1.064549</td>\n",
       "      <td>0.153196</td>\n",
       "      <td>-0.102906</td>\n",
       "    </tr>\n",
       "    <tr>\n",
       "      <th>...</th>\n",
       "      <td>...</td>\n",
       "      <td>...</td>\n",
       "      <td>...</td>\n",
       "    </tr>\n",
       "    <tr>\n",
       "      <th>830</th>\n",
       "      <td>-0.912258</td>\n",
       "      <td>-0.398094</td>\n",
       "      <td>-0.009919</td>\n",
       "    </tr>\n",
       "    <tr>\n",
       "      <th>831</th>\n",
       "      <td>-0.078328</td>\n",
       "      <td>0.162773</td>\n",
       "      <td>0.012561</td>\n",
       "    </tr>\n",
       "    <tr>\n",
       "      <th>832</th>\n",
       "      <td>-0.195815</td>\n",
       "      <td>0.377584</td>\n",
       "      <td>0.016665</td>\n",
       "    </tr>\n",
       "    <tr>\n",
       "      <th>833</th>\n",
       "      <td>-1.039086</td>\n",
       "      <td>-0.163919</td>\n",
       "      <td>0.044639</td>\n",
       "    </tr>\n",
       "    <tr>\n",
       "      <th>834</th>\n",
       "      <td>-0.625622</td>\n",
       "      <td>1.169507</td>\n",
       "      <td>0.122986</td>\n",
       "    </tr>\n",
       "  </tbody>\n",
       "</table>\n",
       "<p>835 rows × 3 columns</p>\n",
       "</div>"
      ],
      "text/plain": [
       "           x1        x2        x3\n",
       "0    0.281147 -0.495878 -0.013759\n",
       "1   -0.625177 -0.922591 -0.006249\n",
       "2    1.056076  0.168829 -0.101029\n",
       "3   -0.743266 -0.707322  -0.03788\n",
       "4    1.064549  0.153196 -0.102906\n",
       "..        ...       ...       ...\n",
       "830 -0.912258 -0.398094 -0.009919\n",
       "831 -0.078328  0.162773  0.012561\n",
       "832 -0.195815  0.377584  0.016665\n",
       "833 -1.039086 -0.163919  0.044639\n",
       "834 -0.625622  1.169507  0.122986\n",
       "\n",
       "[835 rows x 3 columns]"
      ]
     },
     "execution_count": 171,
     "metadata": {},
     "output_type": "execute_result"
    }
   ],
   "source": [
    "pd.DataFrame({'x1':x1,'x2':x2,'x3':x3})\n"
   ]
  },
  {
   "cell_type": "markdown",
   "metadata": {},
   "source": [
    "b) Plot the PCA 1, PCA 2 , and PCA2 components\n"
   ]
  },
  {
   "cell_type": "code",
   "execution_count": 172,
   "metadata": {},
   "outputs": [
    {
     "data": {
      "image/png": "[encoded data removed]",
      "text/plain": [
       "<Figure size 432x288 with 1 Axes>"
      ]
     },
     "metadata": {
      "needs_background": "light"
     },
     "output_type": "display_data"
    }
   ],
   "source": [
    "ax = plt.axes(projection='3d')\n",
    "zdata = x1\n",
    "xdata = x2\n",
    "ydata = x3\n",
    "ax.scatter3D(xdata, ydata, zdata,c=df_test['Color']);"
   ]
  },
  {
   "cell_type": "markdown",
   "metadata": {},
   "source": [
    "c) Could you use PCA component for logistic regression? \n",
    "\n",
    "Following parts use train data with PCA process. Then predict the result with test data after PCA process.\n",
    "\n",
    "Comparing the confusion matrix, I would not suggest PCA for logistic regression in this case. Because the result with PCA has lower accuracy in the testing dataset."
   ]
  },
  {
   "cell_type": "code",
   "execution_count": 173,
   "metadata": {},
   "outputs": [
    {
     "name": "stdout",
     "output_type": "stream",
     "text": [
      " Training Accuray at 0 iterations is 0.5101735487731897\n",
      " Training Accuray at 1000 iterations is 0.5257330939557151\n",
      " Training Accuray at 2000 iterations is 0.5499700777977259\n",
      " Training Accuray at 3000 iterations is 0.5541591861160982\n",
      " Training Accuray at 4000 iterations is 0.5589467384799521\n"
     ]
    }
   ],
   "source": [
    "x_train_pca = pca.transform(x_train)\n",
    "pca_lr = LogisticRegression(epochs=5000).train(x_train_pca,y_train)"
   ]
  },
  {
   "cell_type": "code",
   "execution_count": 174,
   "metadata": {},
   "outputs": [
    {
     "data": {
      "text/plain": [
       "array([[  0,   3,   0,   0,   0,   0],\n",
       "       [  0,  49,  42,   1,   0,   0],\n",
       "       [  0,  14, 222, 113,   0,   0],\n",
       "       [  0,   0,  90, 246,   0,   0],\n",
       "       [  0,   0,  15,  21,   0,   0],\n",
       "       [  0,   0,   4,  15,   0,   0]], dtype=int64)"
      ]
     },
     "execution_count": 174,
     "metadata": {},
     "output_type": "execute_result"
    }
   ],
   "source": [
    "y_pred_pca = pca_lr.predict_(np.insert(x_project, 0, 1, axis=1))\n",
    "y_pred_pca = category_pointer(y_cat=y_train,y_pred=y_pred_pca)\n",
    "\n",
    "# Result with PCA\n",
    "confusion_matrix(y_test,y_pred_pca)"
   ]
  },
  {
   "cell_type": "code",
   "execution_count": 175,
   "metadata": {},
   "outputs": [
    {
     "data": {
      "text/plain": [
       "array([[  0,   3,   0,   0,   0,   0],\n",
       "       [  0,  41,  50,   1,   0,   0],\n",
       "       [  0,   6, 240, 103,   0,   0],\n",
       "       [  0,   0, 104, 232,   0,   0],\n",
       "       [  0,   0,  16,  20,   0,   0],\n",
       "       [  0,   0,   4,  15,   0,   0]], dtype=int64)"
      ]
     },
     "execution_count": 175,
     "metadata": {},
     "output_type": "execute_result"
    }
   ],
   "source": [
    "# Result without PCA\n",
    "confusion_matrix(y_test,y_pred_test)"
   ]
  }
 ],
 "metadata": {
  "kernelspec": {
   "display_name": "Python 3.8.8 64-bit",
   "language": "python",
   "name": "python3"
  },
  "language_info": {
   "codemirror_mode": {
    "name": "ipython",
    "version": 3
   },
   "file_extension": ".py",
   "mimetype": "text/x-python",
   "name": "python",
   "nbconvert_exporter": "python",
   "pygments_lexer": "ipython3",
   "version": "3.8.8"
  },
  "orig_nbformat": 4,
  "vscode": {
   "interpreter": {
    "hash": "82f6ad5c16f96bd4c09885635dc45a9905d4ac7b1c081542d45b0fe5279d5fc5"
   }
  }
 },
 "nbformat": 4,
 "nbformat_minor": 2
}
