{
 "cells": [
  {
   "cell_type": "markdown",
   "metadata": {},
   "source": [
    "### Homework 2\n",
    "Youyu Zhang"
   ]
  },
  {
   "cell_type": "code",
   "execution_count": 2,
   "metadata": {},
   "outputs": [],
   "source": [
    "import numpy as np\n",
    "import random\n",
    "import math"
   ]
  },
  {
   "cell_type": "markdown",
   "metadata": {},
   "source": [
    "While looking at a person’s chickenpox in 2021, it turns out that 1% of people in the world are affected. Consider a group of 20 people. (20 points)\n",
    "\n",
    " a) Write down the random variable in this problem (2 points)\n",
    "\n",
    " b) How is this a binomial experiment? (3 points)\n",
    "\n",
    " c) Find none of them have chickenpox  (3 points)\n",
    "\n",
    " d) Find 10 of them have chickenpox (3 points)\n",
    "\n",
    " e) At most 4 of them have chickenpox (3 points)\n",
    "\n",
    " f) At least 5 of them have chickenpox (3 points).\n",
    "\n",
    " g) In Africa, four people out of twenty have chickenpox. Is this expected? Did you see any statistical evidence? (3 points)\n"
   ]
  },
  {
   "cell_type": "code",
   "execution_count": 6,
   "metadata": {},
   "outputs": [
    {
     "name": "stdout",
     "output_type": "stream",
     "text": [
      "Answer c: Probability of none of them have chickenpox is: 0.818\n",
      "Answer d: Probability of 10 of them have chickenpox is: 1.6709001465032671e-15\n",
      "Answer e: Probability of at most 4 of them have chickenpox is: 0.9999986322013671\n",
      "Answer f: Probability of at least 5 of them have chickenpox is: 1.3677986329119207e-06 or 1.3677986329119207e-06\n",
      "Answer g: Probability of 4 of them have chickenpox is: 4.125312900954672e-05 which is pretty rare and definitely out of expectation.\n",
      "Expected affected population: 0.19999999999999996\n",
      "Expected std: 0.198\n",
      "Z-score of 4 people get affected: 19.192\n"
     ]
    }
   ],
   "source": [
    "p = 0.01   # 1% of people affected.\n",
    "n = 20     # 20 sample size\n",
    "\n",
    "# (a)\n",
    "# Random variable is how many people are affected in the sample.\n",
    "\n",
    "# (b)\n",
    "# Binomial function: p(x) = (x,n)*p**x*(1-p)**(n-x)\n",
    "# It has various probabilities and combination\n",
    "\n",
    "# (c)\n",
    "def combination(n: int,x: int) -> float:\n",
    "    \"\"\"\n",
    "    This function is going to calculate combination (n x).\n",
    "    n: total sample\n",
    "    x: selected sample from n\n",
    "    \"\"\"\n",
    "    if n < x:\n",
    "        raise ValueError(\"n < x. Please double check and make sure n >= x.\")\n",
    "    c = math.factorial(n)/math.factorial(x)/math.factorial(n-x)\n",
    "    return c\n",
    "\n",
    "def binom_probability(p, n, x) -> float:\n",
    "    \"\"\"\n",
    "    This function will calculate binomial probability result\n",
    "    based on given p, n, and x.\n",
    "    p: probability of single event\n",
    "    n: total sample\n",
    "    x: selected sample from n\n",
    "    \"\"\"\n",
    "    px = combination(n, x)*p**x*(1-p)**(n-x)\n",
    "    return px\n",
    "\n",
    "x_1c = 0\n",
    "p_1c = binom_probability(p, n, x_1c)\n",
    "print(f\"Answer c: Probability of none of them have chickenpox is:\",\n",
    "      f\"{round(p_1c,3)}\")\n",
    "\n",
    "# (d)\n",
    "x_1d = 10\n",
    "p_1d = binom_probability(p, n ,x_1d)\n",
    "print(f\"Answer d: Probability of 10 of them have chickenpox is:\",\n",
    "      f\"{p_1d}\")\n",
    "\n",
    "# (e)\n",
    "x_1e = range(0, 5)\n",
    "p_1e = 0\n",
    "for i in x_1e:\n",
    "    p_temp = binom_probability(p, n, i)\n",
    "    p_1e += p_temp\n",
    "print(f\"Answer e: Probability of at most 4 of them have chickenpox is:\",\n",
    "      f\"{p_1e}\")\n",
    "\n",
    "# (f)\n",
    "x_1f_except = range(0, 5)\n",
    "p_1f_except = 0\n",
    "for i in x_1f_except:\n",
    "    p_temp = binom_probability(p, n, i)\n",
    "    p_1f_except += p_temp\n",
    "p_1f = 1-p_1f_except\n",
    "print(f\"Answer f: Probability of at least 5 of them have chickenpox is:\",\n",
    "      f\"{p_1f}\",\n",
    "      f\"or {1-p_1e}\")\n",
    "\n",
    "# (g)\n",
    "x_1g = 4\n",
    "p_1g = binom_probability(p, n, x_1g)\n",
    "print(f\"Answer g: Probability of 4 of them have chickenpox is:\",\n",
    "      f\"{p_1g}\",\n",
    "      f\"which is pretty rare and definitely out of expectation.\")\n",
    "\n",
    "x = range(0, n+1)\n",
    "ex_list = []  # list of p[i]*i\n",
    "std_list = []  # list of std\n",
    "for i in x:\n",
    "    p_i = binom_probability(p,n,i)\n",
    "    ex_list.append(p_i*i)\n",
    "theta = sum(ex_list)\n",
    "for i in x:\n",
    "    std_temp = (i-theta)**2*binom_probability(p,n,i)\n",
    "    std_list.append(std_temp)\n",
    "sigma = round(sum(std_list),3)\n",
    "\n",
    "x_1g_zscore = (x_1g-theta)/sigma\n",
    "print(f\"Expected affected population: {theta}\")\n",
    "print(f\"Expected std: {sigma}\")\n",
    "print(f\"Z-score of 4 people get affected: {round(x_1g_zscore,3)}\")"
   ]
  },
  {
   "cell_type": "markdown",
   "metadata": {},
   "source": [
    "In the Snohomish country, Family income ~ N($25000, $1000^2 ). If the low-income level is $15,000, what percentage of the population lives under the low-income level? (hint: Normal distribution) (5 points)"
   ]
  },
  {
   "cell_type": "code",
   "execution_count": 43,
   "metadata": {},
   "outputs": [
    {
     "name": "stdout",
     "output_type": "stream",
     "text": [
      "49.6 percentage of people live under the low-income level.\n"
     ]
    }
   ],
   "source": [
    "avg = 25000\n",
    "std = 1000**2\n",
    "\n",
    "# Calculate cumulative probability density\n",
    "cdf_q2 = 1/2*(1+math.erf((15000-avg)/std/np.sqrt(2)))\n",
    "\n",
    "print(f\"{round(cdf_q2,4)*100} percentage of people live under the low-income level.\")"
   ]
  },
  {
   "cell_type": "markdown",
   "metadata": {},
   "source": [
    "The Darigold uses a filling machine to fill milk bottles with 2% milk. The milk bottles should contain 350 ml of milk. But the container will vary with a mean of 348 ml and a standard deviation of 3 ml. (10 points)\n",
    "\n",
    "a) What is the probability that a bottle contains less than 3 ml of the original size? (5 points)\n",
    "\n",
    "b) What is the probability that the mean of the six-pack bottles is less than 345 ml? (5 points)"
   ]
  },
  {
   "cell_type": "code",
   "execution_count": 46,
   "metadata": {},
   "outputs": [
    {
     "name": "stdout",
     "output_type": "stream",
     "text": [
      "Answer a: The probability is 0.369\n",
      "Answer b: The probability is 0.159\n"
     ]
    }
   ],
   "source": [
    "# (a)\n",
    "original_size = 350\n",
    "avg_3 = 348\n",
    "std_3 = 3\n",
    "\n",
    "x_3a = original_size-3\n",
    "\n",
    "# calcualte cumulative probability density based on normal distribution\n",
    "cdf_q3a = 1/2*(1+math.erf((x_3a-avg_3)/std_3/np.sqrt(2)))\n",
    "print(f\"Answer a: The probability is {round(cdf_q3a,3)}\")\n",
    "\n",
    "# (b)\n",
    "avg_3b = avg_3*6\n",
    "std_3b = std_3*6\n",
    "\n",
    "x_3b = 345*6\n",
    "cdf_q3b = 1/2*(1+math.erf((x_3b-avg_3b)/std_3b/np.sqrt(2)))\n",
    "print(f\"Answer b: The probability is {round(cdf_q3b,3)}\")"
   ]
  }
 ],
 "metadata": {
  "kernelspec": {
   "display_name": "Python 3.8.8 64-bit",
   "language": "python",
   "name": "python3"
  },
  "language_info": {
   "codemirror_mode": {
    "name": "ipython",
    "version": 3
   },
   "file_extension": ".py",
   "mimetype": "text/x-python",
   "name": "python",
   "nbconvert_exporter": "python",
   "pygments_lexer": "ipython3",
   "version": "3.8.8"
  },
  "orig_nbformat": 4,
  "vscode": {
   "interpreter": {
    "hash": "82f6ad5c16f96bd4c09885635dc45a9905d4ac7b1c081542d45b0fe5279d5fc5"
   }
  }
 },
 "nbformat": 4,
 "nbformat_minor": 2
}
