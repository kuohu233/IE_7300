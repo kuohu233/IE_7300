{
 "cells": [
  {
   "cell_type": "markdown",
   "metadata": {},
   "source": [
    "<center>IE 7300: Statistical Learning for Engineering</center>"
   ]
  },
  {
   "cell_type": "markdown",
   "metadata": {},
   "source": [
    "### <center>HW 6</center>\n",
    "<center>Youyu Zhang</center>\n",
    "<center>zhang.youy@northeastern.edu</center>\n",
    "<center>(530)574-2826</center>\n",
    "<center>Submitted by 10/25/2022</center>"
   ]
  },
  {
   "cell_type": "code",
   "execution_count": 15,
   "metadata": {},
   "outputs": [],
   "source": [
    "import pandas as pd\n",
    "import numpy as np\n",
    "import matplotlib.pyplot as plt\n",
    "import seaborn as sns\n",
    "import itertools\n",
    "\n",
    "from sklearn.metrics import confusion_matrix"
   ]
  },
  {
   "cell_type": "markdown",
   "metadata": {},
   "source": [
    "Split the dataset into training and test dataset 80:20.\n"
   ]
  },
  {
   "cell_type": "code",
   "execution_count": 2,
   "metadata": {},
   "outputs": [
    {
     "data": {
      "text/html": [
       "<div>\n",
       "<style scoped>\n",
       "    .dataframe tbody tr th:only-of-type {\n",
       "        vertical-align: middle;\n",
       "    }\n",
       "\n",
       "    .dataframe tbody tr th {\n",
       "        vertical-align: top;\n",
       "    }\n",
       "\n",
       "    .dataframe thead th {\n",
       "        text-align: right;\n",
       "    }\n",
       "</style>\n",
       "<table border=\"1\" class=\"dataframe\">\n",
       "  <thead>\n",
       "    <tr style=\"text-align: right;\">\n",
       "      <th></th>\n",
       "      <th>Wine</th>\n",
       "      <th>Alcohol</th>\n",
       "      <th>Malic.acid</th>\n",
       "      <th>Ash</th>\n",
       "      <th>Acl</th>\n",
       "      <th>Mg</th>\n",
       "      <th>Phenols</th>\n",
       "      <th>Flavanoids</th>\n",
       "      <th>Nonflavanoid.phenols</th>\n",
       "      <th>Proanth</th>\n",
       "      <th>Color.int</th>\n",
       "      <th>Hue</th>\n",
       "      <th>OD</th>\n",
       "      <th>Proline</th>\n",
       "    </tr>\n",
       "  </thead>\n",
       "  <tbody>\n",
       "    <tr>\n",
       "      <th>0</th>\n",
       "      <td>1</td>\n",
       "      <td>14.23</td>\n",
       "      <td>1.71</td>\n",
       "      <td>2.43</td>\n",
       "      <td>15.6</td>\n",
       "      <td>127</td>\n",
       "      <td>2.80</td>\n",
       "      <td>3.06</td>\n",
       "      <td>0.28</td>\n",
       "      <td>2.29</td>\n",
       "      <td>5.64</td>\n",
       "      <td>1.04</td>\n",
       "      <td>3.92</td>\n",
       "      <td>1065</td>\n",
       "    </tr>\n",
       "    <tr>\n",
       "      <th>1</th>\n",
       "      <td>1</td>\n",
       "      <td>13.20</td>\n",
       "      <td>1.78</td>\n",
       "      <td>2.14</td>\n",
       "      <td>11.2</td>\n",
       "      <td>100</td>\n",
       "      <td>2.65</td>\n",
       "      <td>2.76</td>\n",
       "      <td>0.26</td>\n",
       "      <td>1.28</td>\n",
       "      <td>4.38</td>\n",
       "      <td>1.05</td>\n",
       "      <td>3.40</td>\n",
       "      <td>1050</td>\n",
       "    </tr>\n",
       "    <tr>\n",
       "      <th>2</th>\n",
       "      <td>1</td>\n",
       "      <td>13.16</td>\n",
       "      <td>2.36</td>\n",
       "      <td>2.67</td>\n",
       "      <td>18.6</td>\n",
       "      <td>101</td>\n",
       "      <td>2.80</td>\n",
       "      <td>3.24</td>\n",
       "      <td>0.30</td>\n",
       "      <td>2.81</td>\n",
       "      <td>5.68</td>\n",
       "      <td>1.03</td>\n",
       "      <td>3.17</td>\n",
       "      <td>1185</td>\n",
       "    </tr>\n",
       "  </tbody>\n",
       "</table>\n",
       "</div>"
      ],
      "text/plain": [
       "   Wine  Alcohol  Malic.acid   Ash   Acl   Mg  Phenols  Flavanoids  \\\n",
       "0     1    14.23        1.71  2.43  15.6  127     2.80        3.06   \n",
       "1     1    13.20        1.78  2.14  11.2  100     2.65        2.76   \n",
       "2     1    13.16        2.36  2.67  18.6  101     2.80        3.24   \n",
       "\n",
       "   Nonflavanoid.phenols  Proanth  Color.int   Hue    OD  Proline  \n",
       "0                  0.28     2.29       5.64  1.04  3.92     1065  \n",
       "1                  0.26     1.28       4.38  1.05  3.40     1050  \n",
       "2                  0.30     2.81       5.68  1.03  3.17     1185  "
      ]
     },
     "execution_count": 2,
     "metadata": {},
     "output_type": "execute_result"
    }
   ],
   "source": [
    "df = pd.read_csv('wine-1.csv')\n",
    "df.head(3)"
   ]
  },
  {
   "cell_type": "code",
   "execution_count": 3,
   "metadata": {},
   "outputs": [
    {
     "name": "stdout",
     "output_type": "stream",
     "text": [
      "Training dataset length : 142\n",
      "Testing dataset length : 36\n"
     ]
    }
   ],
   "source": [
    "x_all,y_all = np.array(df.drop('Wine', axis=1)), np.array(df['Wine'])\n",
    "x_train, x_test = np.split(x_all,[int(0.8*len(x_all))])\n",
    "y_train, y_test = np.split(y_all,[int(0.8*len(y_all))])\n",
    "\n",
    "print('Training dataset length :', x_train.shape[0])\n",
    "print('Testing dataset length :', x_test.shape[0])"
   ]
  },
  {
   "cell_type": "markdown",
   "metadata": {},
   "source": [
    "a) Create a logistics regression, LDA, decision tree, and AdaBoost models. Fit the model using the training dataset and find the model accuracy and confusion matrix. Explain each model's outcome, finding, and accuracy. (10 points) "
   ]
  },
  {
   "cell_type": "code",
   "execution_count": 261,
   "metadata": {},
   "outputs": [],
   "source": [
    "class LogisticRegression:\n",
    "    \"\"\"\n",
    "    Logistic regression for multi-class classification.\n",
    "    \"\"\"\n",
    "    def __init__(self, epochs: int=2000, threshold: float=1e-3) -> None:\n",
    "        \"\"\"\n",
    "        epochs: iteration times\n",
    "        threshold: threshold when the change of weights are less than\n",
    "            this number, the iteration can stop.\n",
    "        \"\"\"\n",
    "        self.epochs = epochs\n",
    "        self.threshold = threshold\n",
    "\n",
    "    def train(self, x, y, batch_size=64, lr=0.001):\n",
    "        \"\"\"\n",
    "        Model training. \n",
    "        lr: learning rate\n",
    "        batch_size: sample size\n",
    "        \"\"\"\n",
    "        self.classes = np.unique(y)\n",
    "        self.class_labels = {c:i for i,c in enumerate(self.classes)}\n",
    "        # x = np.insert(x, 0, 1, axis=1)\n",
    "        y = np.eye(len(self.classes))[np.vectorize(lambda c: self.class_labels[c])(y).reshape(-1)]\n",
    "        self.loss = []\n",
    "        self.weights = np.zeros(shape=(len(self.classes),x.shape[1]))\n",
    "        i = 0\n",
    "        while (not self.epochs or i < self.epochs):\n",
    "            self.loss.append(self.cross_entropy(y, self.predict(x)))\n",
    "            idx = np.random.choice(x.shape[0], batch_size)\n",
    "            x_batch, y_batch = x[idx], y[idx]\n",
    "            error = y_batch - self.predict(x_batch)\n",
    "            update = (lr * np.dot(error.T, x_batch))\n",
    "            self.weights = np.add(self.weights, update)\n",
    "            # self.weights += update\n",
    "            if np.abs(update).max() < self.threshold: \n",
    "                break\n",
    "            if i % (self.epochs/5)  == 0: \n",
    "                print(' Training Accuray at {} iterations is {}'.format(i, self.evaluate_(x, y)))\n",
    "            i +=1\n",
    "        return self\n",
    "\n",
    "    def predict(self, X):\n",
    "        \"\"\"\n",
    "        Predict with given X. Return the softmax value.\n",
    "        \"\"\"\n",
    "        # X = np.insert(X, 0, 1, axis=1)\n",
    "        pre_vals = np.dot(X, self.weights.T).reshape(-1,len(self.classes))\n",
    "        return self.softmax(pre_vals)\n",
    "    \n",
    "    def softmax(self, z):\n",
    "        return np.exp(z.astype(float))/np.sum(np.exp(z.astype(float)), axis=1).reshape(-1,1)\n",
    "    \n",
    "    def evaluate_(self, X, y):\n",
    "        return np.mean(np.argmax(self.predict(X), axis=1) == np.argmax(y, axis=1))\n",
    "\n",
    "    def cross_entropy(self, y, probs):\n",
    "        return -1 * np.mean(y * np.log(probs))\n",
    "\n",
    "    def predict_proba(self, X):\n",
    "        return self.predict(X)\n"
   ]
  },
  {
   "cell_type": "code",
   "execution_count": 5,
   "metadata": {},
   "outputs": [],
   "source": [
    "class LinearDiscriminantAnalysis:\n",
    "    \"\"\"\n",
    "    LDA\n",
    "    \"\"\"\n",
    "    def __init__(self, n_components):\n",
    "        \"\"\"\n",
    "        n_components: the number of components to yield\n",
    "        linear_discriminants: eigenvector of the n_components\n",
    "        \"\"\"\n",
    "        self.n_components = n_components\n",
    "        self.linear_discriminants = None\n",
    "\n",
    "    def fit(self, X, y):\n",
    "        n_features = X.shape[1]\n",
    "        class_labels = np.unique(y)\n",
    "\n",
    "        mean_overall = np.mean(X, axis=0)\n",
    "        # SW indicated within class scattering\n",
    "        SW = np.zeros((n_features, n_features))\n",
    "        # SB indicated the scattering between classes\n",
    "        SB = np.zeros((n_features, n_features))\n",
    "\n",
    "        for c in class_labels:\n",
    "            X_c = X[y == c]\n",
    "            mean_c = np.mean(X_c, axis=0)\n",
    "            SW += (X_c - mean_c).T.dot((X_c - mean_c))\n",
    "            n_c = X_c.shape[0]\n",
    "            mean_diff = (mean_c - mean_overall).reshape(n_features, 1)\n",
    "            SB += n_c * (mean_diff).dot(mean_diff.T)\n",
    "\n",
    "        # Determine SW^-1 * SB\n",
    "        A = np.linalg.inv(SW).dot(SB)\n",
    "        # Get eigenvalues and eigenvectors of SW^-1 * SB\n",
    "        eigenvalues, eigenvectors = np.linalg.eig(A)\n",
    "        # -> eigenvector v = [:,i] column vector, transpose for easier calculations\n",
    "        # sort eigenvalues high to low\n",
    "        eigenvectors = eigenvectors.T\n",
    "        idxs = np.argsort(abs(eigenvalues))[::-1]\n",
    "        eigenvalues = eigenvalues[idxs]\n",
    "        eigenvectors = eigenvectors[idxs]\n",
    "        # store first n eigenvectors\n",
    "        self.linear_discriminants = eigenvectors[0 : self.n_components]\n",
    "\n",
    "    def transform(self, X):\n",
    "        # project data\n",
    "        return np.dot(X, self.linear_discriminants.T)\n"
   ]
  },
  {
   "cell_type": "code",
   "execution_count": 608,
   "metadata": {},
   "outputs": [],
   "source": [
    "class Node():\n",
    "    def __init__(self, feature_index=None, threshold=None, left=None, right=None, var_red=None, value=None):\n",
    "        # for decision node\n",
    "        self.feature_index = feature_index\n",
    "        self.threshold = threshold\n",
    "        self.left = left\n",
    "        self.right = right\n",
    "        self.var_red = var_red\n",
    "        \n",
    "        # for leaf node\n",
    "        self.value = value\n",
    "\n",
    "\n",
    "class DecisionTree():\n",
    "    \"\"\"\n",
    "    This class includes two different decision tree method:\n",
    "    1. regressor, methodName \n",
    "    2. classification, methodName_\n",
    "    \"\"\"\n",
    "    def __init__(self, min_samples_split=2, max_depth=2):\n",
    "        # initialize the root of the tree \n",
    "        self.root = None\n",
    "        # stopping conditions\n",
    "        self.min_samples_split = min_samples_split\n",
    "        self.max_depth = max_depth\n",
    "        \n",
    "    def build_tree(self, dataset, curr_depth=0):  \n",
    "        \"\"\"\n",
    "        Regressor build\n",
    "        \"\"\"\n",
    "        X, Y = dataset[:,:-1], dataset[:,-1]\n",
    "        num_samples, num_features = np.shape(X)\n",
    "        best_split = {}\n",
    "        # split until stopping conditions are met\n",
    "        if num_samples>=self.min_samples_split and curr_depth<=self.max_depth:\n",
    "            # find the best split\n",
    "            best_split = self.get_best_split(dataset, num_samples, num_features)\n",
    "            # check if information gain is positive\n",
    "            if best_split[\"var_red\"]>0:\n",
    "                # recur left\n",
    "                left_subtree = self.build_tree(best_split[\"dataset_left\"], curr_depth+1)\n",
    "                # recur right\n",
    "                right_subtree = self.build_tree(best_split[\"dataset_right\"], curr_depth+1)\n",
    "                # return decision node\n",
    "                return Node(best_split[\"feature_index\"], best_split[\"threshold\"], \n",
    "                            left_subtree, right_subtree, best_split[\"var_red\"])\n",
    "        # compute leaf node\n",
    "        leaf_value = self.calculate_leaf_value(Y)\n",
    "        # return leaf node\n",
    "        return Node(value=leaf_value)\n",
    "\n",
    "    def build_tree_(self, dataset, curr_depth=0,sample_weight=None):\n",
    "        \"\"\"\n",
    "        Classification build\n",
    "        \"\"\"\n",
    "        if sample_weight is not None:\n",
    "            X, Y, sample_weight = dataset[:,:-2], dataset[:,-2], dataset[-1]\n",
    "        else:\n",
    "            X, Y = dataset[:,:-1], dataset[:,-1]\n",
    "        num_samples, num_features = np.shape(X)\n",
    "        \n",
    "        # split until stopping conditions are met\n",
    "        if num_samples>=self.min_samples_split and curr_depth<=self.max_depth:\n",
    "            # find the best split\n",
    "            best_split = self.get_best_split_(dataset, num_samples, num_features,sample_weight=None)\n",
    "            # check if information gain is positive\n",
    "            if best_split[\"info_gain\"]>0:\n",
    "                # recur left\n",
    "                left_subtree = self.build_tree_(best_split[\"dataset_left\"], curr_depth+1)\n",
    "                # recur right\n",
    "                right_subtree = self.build_tree_(best_split[\"dataset_right\"], curr_depth+1)\n",
    "                # return decision node\n",
    "                return Node(best_split[\"feature_index\"], best_split[\"threshold\"], \n",
    "                            left_subtree, right_subtree, best_split[\"info_gain\"])\n",
    "        \n",
    "        # compute leaf node\n",
    "        leaf_value = self.calculate_leaf_value_(Y)\n",
    "        # return leaf node\n",
    "        return Node(value=leaf_value)\n",
    "    \n",
    "    def get_best_split(self, dataset, num_samples, num_features):\n",
    "        ''' function to find the best split '''\n",
    "        \n",
    "        # dictionary to store the best split\n",
    "        best_split = {}\n",
    "        max_var_red = -float(\"inf\")\n",
    "        # loop over all the features\n",
    "        for feature_index in range(num_features):\n",
    "            feature_values = dataset[:, feature_index]\n",
    "            possible_thresholds = np.unique(feature_values)\n",
    "            # loop over all the feature values present in the data\n",
    "            for threshold in possible_thresholds:\n",
    "                # get current split\n",
    "                dataset_left, dataset_right = self.split(dataset, feature_index, threshold)\n",
    "                # check if childs are not null\n",
    "                if len(dataset_left)>0 and len(dataset_right)>0:\n",
    "                    y, left_y, right_y = dataset[:, -1], dataset_left[:, -1], dataset_right[:, -1]\n",
    "                    # compute information gain\n",
    "                    curr_var_red = self.variance_reduction(y, left_y, right_y)\n",
    "                    # update the best split if needed\n",
    "                    if curr_var_red>max_var_red:\n",
    "                        best_split[\"feature_index\"] = feature_index\n",
    "                        best_split[\"threshold\"] = threshold\n",
    "                        best_split[\"dataset_left\"] = dataset_left\n",
    "                        best_split[\"dataset_right\"] = dataset_right\n",
    "                        best_split[\"var_red\"] = curr_var_red\n",
    "                        max_var_red = curr_var_red\n",
    "                        \n",
    "        # return best split\n",
    "        return best_split\n",
    "    \n",
    "    def get_best_split_(self, dataset, num_samples, num_features,sample_weight=None):\n",
    "        ''' function to find the best split '''\n",
    "        \n",
    "        # dictionary to store the best split\n",
    "        best_split = {}\n",
    "        max_info_gain = -float(\"inf\")\n",
    "        \n",
    "        # loop over all the features\n",
    "        for feature_index in range(num_features):\n",
    "            feature_values = dataset[:, feature_index]\n",
    "            possible_thresholds = np.unique(feature_values)\n",
    "            # loop over all the feature values present in the data\n",
    "            for threshold in possible_thresholds:\n",
    "                # get current split\n",
    "                dataset_left, dataset_right = self.split(dataset, feature_index, threshold)\n",
    "                # check if childs are not null\n",
    "                if len(dataset_left)>0 and len(dataset_right)>0:\n",
    "                    if sample_weight == None:\n",
    "                        y, left_y, right_y = dataset[:, -1], dataset_left[:, -1], dataset_right[:, -1]\n",
    "                        curr_info_gain = self.information_gain(\n",
    "                        parent=y,\n",
    "                        l_child=left_y,\n",
    "                        r_child=right_y,\n",
    "                        mode=\"gini\",\n",
    "                        sample_weight=None\n",
    "                        )\n",
    "                    else:\n",
    "                        y, left_y, right_y = dataset[:, -2], dataset_left[:, -2], dataset_right[:, -2]\n",
    "                        weight, left_weight, right_weight = dataset[:, -1], dataset_left[:, -1], dataset_right[:, -1]\n",
    "                        # compute information gain\n",
    "                        curr_info_gain = self.information_gain(\n",
    "                            parent=y,\n",
    "                            l_child=left_y,\n",
    "                            r_child=right_y,\n",
    "                            mode=\"gini\",\n",
    "                            sample_weight=[weight, left_weight, right_weight]\n",
    "                            )\n",
    "                    # update the best split if needed\n",
    "                    if curr_info_gain>max_info_gain:\n",
    "                        best_split[\"feature_index\"] = feature_index\n",
    "                        best_split[\"threshold\"] = threshold\n",
    "                        best_split[\"dataset_left\"] = dataset_left\n",
    "                        best_split[\"dataset_right\"] = dataset_right\n",
    "                        best_split[\"info_gain\"] = curr_info_gain\n",
    "                        max_info_gain = curr_info_gain\n",
    "                        \n",
    "        # return best split\n",
    "        return best_split\n",
    "\n",
    "    def split(self, dataset, feature_index, threshold):\n",
    "        dataset_left = np.array([row for row in dataset if row[feature_index]<=threshold])\n",
    "        dataset_right = np.array([row for row in dataset if row[feature_index]>threshold])\n",
    "        return dataset_left, dataset_right\n",
    "    \n",
    "    def variance_reduction(self, parent, l_child, r_child):\n",
    "        weight_l = len(l_child) / len(parent)\n",
    "        weight_r = len(r_child) / len(parent)\n",
    "        reduction = np.var(parent) - (weight_l * np.var(l_child) + weight_r * np.var(r_child))\n",
    "        return reduction\n",
    "\n",
    "    def information_gain(self, parent, l_child, r_child, mode=\"entropy\",sample_weight=None):\n",
    "        ''' function to compute information gain '''\n",
    "        if sample_weight == None:\n",
    "            weight_l = len(l_child) / len(parent)\n",
    "            weight_r = len(r_child) / len(parent)\n",
    "            if mode==\"gini\":\n",
    "                gain = self.gini_index(parent) - (weight_l*self.gini_index(l_child) + weight_r*self.gini_index(r_child))\n",
    "            else:\n",
    "                gain = self.entropy(parent) - (weight_l*self.entropy(l_child) + weight_r*self.entropy(r_child))\n",
    "        else:\n",
    "            parent_weight = sample_weight[0]\n",
    "            weight_l = sample_weight[1]\n",
    "            weight_r = sample_weight[2]\n",
    "            if mode==\"gini\":\n",
    "                gain = self.gini_index(parent,parent_weight) - (self.gini_index(l_child,weight_l) + self.gini_index(r_child,weight_r))\n",
    "            else:\n",
    "                gain = self.entropy(parent) - (weight_l*self.entropy(l_child) + weight_r*self.entropy(r_child))\n",
    "        return gain\n",
    "\n",
    "    def entropy(self, y, sample_weight=None):\n",
    "        \"\"\"\n",
    "        Function to calculate entropy\n",
    "        \"\"\"\n",
    "        class_labels = np.unique(y)\n",
    "        entropy = 0\n",
    "        for cls in class_labels:\n",
    "            p_cls = len(y[y == cls]) / len(y)\n",
    "            entropy += -p_cls * np.log2(p_cls)\n",
    "        return entropy\n",
    "\n",
    "    def gini_index(self, y, sample_weight=None):\n",
    "        '''\n",
    "        Function to compute gini index \n",
    "        Weighted added. \n",
    "        '''\n",
    "        class_labels = np.unique(y)\n",
    "        gini = 0\n",
    "\n",
    "        if sample_weight == None:\n",
    "            for cls in class_labels:\n",
    "                p_cls = len(y[y == cls]) / len(y)\n",
    "                gini += p_cls**2\n",
    "        else:  # Not weighted\n",
    "            # Check if y and sample_weight has same length\n",
    "            if len(y) != len(sample_weight):\n",
    "                print('Length of y and sample_weight do not match.')\n",
    "            # Normalize weight before calculation\n",
    "            ss = sum(sample_weight)\n",
    "            norm_weight = [i/ss for i in sample_weight]\n",
    "            for cls in class_labels:\n",
    "                ind = []\n",
    "                p_cls_items = []\n",
    "                for idx, value in enumerate(y):\n",
    "                    if value == cls:\n",
    "                        ind.append(idx)\n",
    "                        p_cls_items.append(norm_weight[idx])\n",
    "                p_cls = sum(p_cls_items)\n",
    "                gini += p_cls**2\n",
    "\n",
    "        return 1 - gini\n",
    "        \n",
    "    def calculate_leaf_value_(self, Y):\n",
    "        Y = list(Y)\n",
    "        return max(Y, key=Y.count)\n",
    "\n",
    "    def calculate_leaf_value(self, Y):\n",
    "        val = np.mean(Y)\n",
    "        return val\n",
    "                \n",
    "    def print_tree(self, tree=None, indent=\" \"):\n",
    "        if not tree:\n",
    "            tree = self.root\n",
    "        if tree.value is not None:\n",
    "            print(tree.value)\n",
    "        else:\n",
    "            print(\"X_\"+str(tree.feature_index), \"<=\", tree.threshold, \"?\", tree.var_red)\n",
    "            print(\"%sleft:\" % (indent), end=\"\")\n",
    "            self.print_tree(tree.left, indent + indent)\n",
    "            print(\"%sright:\" % (indent), end=\"\")\n",
    "            self.print_tree(tree.right, indent + indent)\n",
    "    \n",
    "    def fit_(self, X, Y):\n",
    "        \"\"\"\n",
    "        Fit for regression.\n",
    "        \"\"\"\n",
    "        # dataset = np.concatenate((X, Y), axis=1)\n",
    "        dataset = np.concatenate((X,np.array(Y).reshape(len(Y),1)),axis=1)\n",
    "        self.root = self.build_tree(dataset)\n",
    "        \n",
    "    def fit(self, X, Y, sample_weight=None):\n",
    "        \"\"\"\n",
    "        Fit for classification.\n",
    "        \"\"\"\n",
    "        # dataset = np.concatenate((X, Y), axis=1)\n",
    "        dataset = np.concatenate((X,np.array(Y).reshape(len(Y),1)),axis=1)\n",
    "        if sample_weight is not None:\n",
    "            dataset = np.concatenate((dataset,np.array(sample_weight).reshape(len(sample_weight),1)),axis=1)\n",
    "            self.root = self.build_tree_(dataset, sample_weight=sample_weight)\n",
    "        self.root = self.build_tree_(dataset)\n",
    "\n",
    "    def make_prediction(self, x, tree):\n",
    "        if tree.value!=None: return tree.value\n",
    "        feature_val = x[tree.feature_index]\n",
    "        if feature_val<=tree.threshold:\n",
    "            return self.make_prediction(x, tree.left)\n",
    "        else:\n",
    "            return self.make_prediction(x, tree.right)\n",
    "    \n",
    "    def predict(self, X): \n",
    "        preditions = [self.make_prediction(x, self.root) for x in X]\n",
    "        return preditions"
   ]
  },
  {
   "cell_type": "code",
   "execution_count": 602,
   "metadata": {},
   "outputs": [],
   "source": [
    "from copy import deepcopy\n",
    "\n",
    "class AdaBoostClassifier(object):\n",
    "    '''\n",
    "    Parameters\n",
    "    -----------\n",
    "    base_estimator: object\n",
    "        The base model from which the boosted ensemble is built.\n",
    "    n_estimators: integer, optional(default=50)\n",
    "        The maximum number of estimators\n",
    "    learning_rate: float, optional(default=1)\n",
    "    algorithm: {'SAMME','SAMME.R'}, optional(default='SAMME.R')\n",
    "        SAMME.R uses predicted probabilities to update wights, while SAMME uses class error rate\n",
    "    random_state: int or None, optional(default=None)\n",
    "    Attributes\n",
    "    -------------\n",
    "    estimators_: list of base estimators\n",
    "    estimator_weights_: array of floats\n",
    "        Weights for each base_estimator\n",
    "    estimator_errors_: array of floats\n",
    "        Classification error for each estimator in the boosted ensemble.\n",
    "    Reference:\n",
    "    1. [multi-adaboost](https://web.stanford.edu/~hastie/Papers/samme.pdf)\n",
    "    2. [scikit-learn:weight_boosting](https://github.com/scikit-learn/\n",
    "    scikit-learn/blob/51a765a/sklearn/ensemble/weight_boosting.py#L289)\n",
    "    '''\n",
    "\n",
    "    def __init__(self, *args, **kwargs):\n",
    "        if kwargs and args:\n",
    "            raise ValueError(\n",
    "                '''AdaBoostClassifier can only be called with keyword\n",
    "                   arguments for the following keywords: base_estimator ,n_estimators,\n",
    "                    learning_rate,algorithm,random_state''')\n",
    "        allowed_keys = [\n",
    "            'base_estimator', 'n_estimators', \n",
    "            'learning_rate', 'algorithm', 'random_state'\n",
    "            ]\n",
    "        keywords_used = kwargs.keys()\n",
    "        for keyword in keywords_used:\n",
    "            if keyword not in allowed_keys:\n",
    "                raise ValueError(keyword + \":  Wrong keyword used --- check spelling\")\n",
    "\n",
    "        n_estimators = 50\n",
    "        learning_rate = 1\n",
    "        algorithm = 'SAMME.R'\n",
    "        random_state = None\n",
    "\n",
    "        if kwargs and not args:\n",
    "            if 'base_estimator' in kwargs:\n",
    "                base_estimator = kwargs.pop('base_estimator')\n",
    "            else:\n",
    "                raise ValueError('''base_estimator can not be None''')\n",
    "            if 'n_estimators' in kwargs: \n",
    "                n_estimators = kwargs.pop('n_estimators')\n",
    "            if 'learning_rate' in kwargs: \n",
    "                learning_rate = kwargs.pop('learning_rate')\n",
    "            if 'algorithm' in kwargs: \n",
    "                algorithm = kwargs.pop('algorithm')\n",
    "            if 'random_state' in kwargs: \n",
    "                random_state = kwargs.pop('random_state')\n",
    "\n",
    "        self.base_estimator_ = base_estimator\n",
    "        self.n_estimators_ = n_estimators\n",
    "        self.learning_rate_ = learning_rate\n",
    "        self.algorithm_ = algorithm\n",
    "        self.random_state_ = random_state\n",
    "        self.estimators_ = list()\n",
    "        self.estimator_weights_ = np.zeros(self.n_estimators_)\n",
    "        self.estimator_errors_ = np.ones(self.n_estimators_)\n",
    "\n",
    "\n",
    "    def _samme_proba(self, estimator, n_classes, X):\n",
    "        \"\"\"Calculate algorithm 4, step 2, equation c) of Zhu et al [1].\n",
    "        References\n",
    "        ----------\n",
    "        .. [1] J. Zhu, H. Zou, S. Rosset, T. Hastie, \"Multi-class AdaBoost\", 2009.\n",
    "        \"\"\"\n",
    "        proba = estimator.predict_proba(X)\n",
    "\n",
    "        # Displace zero probabilities so the log is defined.\n",
    "        # Also fix negative elements which may occur with\n",
    "        # negative sample weights.\n",
    "        proba[proba < np.finfo(proba.dtype).eps] = np.finfo(proba.dtype).eps\n",
    "        log_proba = np.log(proba)\n",
    "\n",
    "        return (n_classes - 1) * (log_proba - (1. / n_classes)\n",
    "                                  * log_proba.sum(axis=1)[:, np.newaxis])\n",
    "\n",
    "\n",
    "    def fit(self, X, y):\n",
    "        self.n_samples = X.shape[0]\n",
    "        # There is hidden trouble for classes, here the classes will be sorted.\n",
    "        # So in boost we have to ensure that the predict results have the same classes sort\n",
    "        self.classes_ = np.array(sorted(list(set(y))))\n",
    "        self.n_classes_ = len(self.classes_)\n",
    "        for iboost in range(self.n_estimators_):\n",
    "            if iboost == 0:\n",
    "                sample_weight = np.ones(self.n_samples) / self.n_samples\n",
    "\n",
    "            sample_weight, estimator_weight, estimator_error = self.boost(X, y, sample_weight)\n",
    "\n",
    "            # early stop\n",
    "            if estimator_error == None:\n",
    "                break\n",
    "\n",
    "            # append error and weight\n",
    "            self.estimator_errors_[iboost] = estimator_error\n",
    "            self.estimator_weights_[iboost] = estimator_weight\n",
    "\n",
    "            if estimator_error <= 0:\n",
    "                break\n",
    "\n",
    "        return self\n",
    "\n",
    "\n",
    "    def boost(self, X, y, sample_weight):\n",
    "        if self.algorithm_ == 'SAMME':\n",
    "            return self.discrete_boost(X, y, sample_weight)\n",
    "        elif self.algorithm_ == 'SAMME.R':\n",
    "            return self.real_boost(X, y, sample_weight)\n",
    "\n",
    "    def real_boost(self, X, y, sample_weight):\n",
    "        estimator = deepcopy(self.base_estimator_)\n",
    "        if self.random_state_:\n",
    "            estimator.set_params(random_state=1)\n",
    "\n",
    "        estimator.train(X, y)\n",
    "\n",
    "        y_pred = estimator.predict(X)\n",
    "        incorrect = y_pred != y\n",
    "        estimator_error = np.dot(incorrect, sample_weight) / np.sum(sample_weight, axis=0)\n",
    "\n",
    "        # if worse than random guess, stop boosting\n",
    "        # if estimator_error.all() >= 1.0 - 1 / self.n_classes_:\n",
    "        #     return None, None, None\n",
    "\n",
    "        y_predict_proba = estimator.predict_proba(X)\n",
    "        # repalce zero\n",
    "        y_predict_proba[y_predict_proba < np.finfo(y_predict_proba.dtype).eps] = np.finfo(y_predict_proba.dtype).eps\n",
    "\n",
    "        y_codes = np.array([-1. / (self.n_classes_ - 1), 1.])\n",
    "        y_coding = y_codes.take(self.classes_ == y[:, np.newaxis])\n",
    "\n",
    "        # for sample weight update\n",
    "        intermediate_variable = (-1. * self.learning_rate_ * (((self.n_classes_ - 1) / self.n_classes_) *\n",
    "                                                              inner1d(y_coding, np.log(\n",
    "                                                                  y_predict_proba))))  #dot iterate for each row\n",
    "\n",
    "        # update sample weight\n",
    "        sample_weight *= np.exp(intermediate_variable)\n",
    "\n",
    "        sample_weight_sum = np.sum(sample_weight, axis=0)\n",
    "        if sample_weight_sum <= 0:\n",
    "            return None, None, None\n",
    "\n",
    "        # normalize sample weight\n",
    "        sample_weight /= sample_weight_sum\n",
    "\n",
    "        # append the estimator\n",
    "        self.estimators_.append(estimator)\n",
    "\n",
    "        return sample_weight, 1, estimator_error\n",
    "\n",
    "\n",
    "    def discrete_boost(self, X, y, sample_weight):\n",
    "        estimator = deepcopy(self.base_estimator_)\n",
    "        if self.random_state_:\n",
    "            estimator.set_params(random_state=1)\n",
    "\n",
    "        estimator.fit(X, y, sample_weight=sample_weight)\n",
    "\n",
    "        y_pred = estimator.predict(X)\n",
    "        incorrect = y_pred != y\n",
    "        estimator_error = np.dot(incorrect, sample_weight) / np.sum(sample_weight, axis=0)\n",
    "\n",
    "        # if worse than random guess, stop boosting\n",
    "        if estimator_error >= 1 - 1 / self.n_classes_:\n",
    "            return None, None, None\n",
    "\n",
    "        # update estimator_weight\n",
    "        estimator_weight = self.learning_rate_ * np.log((1 - estimator_error) / estimator_error) + np.log(\n",
    "            self.n_classes_ - 1)\n",
    "\n",
    "        if estimator_weight <= 0:\n",
    "            return None, None, None\n",
    "\n",
    "        # update sample weight\n",
    "        sample_weight *= np.exp(estimator_weight * incorrect)\n",
    "\n",
    "        sample_weight_sum = np.sum(sample_weight, axis=0)\n",
    "        if sample_weight_sum <= 0:\n",
    "            return None, None, None\n",
    "\n",
    "        # normalize sample weight\n",
    "        sample_weight /= sample_weight_sum\n",
    "\n",
    "        # append the estimator\n",
    "        self.estimators_.append(estimator)\n",
    "\n",
    "        return sample_weight, estimator_weight, estimator_error\n",
    "\n",
    "    def predict(self, X):\n",
    "        n_classes = self.n_classes_\n",
    "        classes = self.classes_[:, np.newaxis]\n",
    "        pred = None\n",
    "\n",
    "        if self.algorithm_ == 'SAMME.R':\n",
    "            # The weights are all 1. for SAMME.R\n",
    "            pred = sum(self._samme_proba(estimator, n_classes, X) for estimator in self.estimators_)\n",
    "        else:  # self.algorithm == \"SAMME\"\n",
    "            pred = sum((estimator.predict(X) == classes).T * w\n",
    "                       for estimator, w in zip(self.estimators_,\n",
    "                                               self.estimator_weights_))\n",
    "\n",
    "        pred /= self.estimator_weights_.sum()\n",
    "        if n_classes == 2:\n",
    "            pred[:, 0] *= -1\n",
    "            pred = pred.sum(axis=1)\n",
    "            return self.classes_.take(pred > 0, axis=0)\n",
    "\n",
    "        return self.classes_.take(np.argmax(pred, axis=1), axis=0)\n",
    "\n",
    "\n",
    "    def predict_proba(self, X):\n",
    "        if self.algorithm_ == 'SAMME.R':\n",
    "            # The weights are all 1. for SAMME.R\n",
    "            proba = sum(self._samme_proba(estimator, self.n_classes_, X)\n",
    "                        for estimator in self.estimators_)\n",
    "        else:  # self.algorithm == \"SAMME\"\n",
    "            proba = sum(estimator.predict_proba(X) * w\n",
    "                        for estimator, w in zip(self.estimators_,\n",
    "                                                self.estimator_weights_))\n",
    "\n",
    "        proba /= self.estimator_weights_.sum()\n",
    "        proba = np.exp((1. / (self.n_classes - 1)) * proba)\n",
    "        normalizer = proba.sum(axis=1)[:, np.newaxis]\n",
    "        normalizer[normalizer == 0.0] = 1.0\n",
    "        proba /= normalizer\n",
    "\n",
    "        return proba"
   ]
  },
  {
   "cell_type": "code",
   "execution_count": 502,
   "metadata": {},
   "outputs": [],
   "source": [
    "# Define AdaBoost class\n",
    "def compute_error(y, y_pred, w_i):\n",
    "    '''\n",
    "    Calculate the error rate of a weak classifier m. Arguments:\n",
    "    y: actual target value\n",
    "    y_pred: predicted value by weak classifier\n",
    "    w_i: individual weights for each case\n",
    "    \n",
    "    Note that all arrays should be the same length\n",
    "    '''\n",
    "    return (sum(w_i * (np.not_equal(y, y_pred)).astype(int)))/sum(w_i)\n",
    "\n",
    "def compute_alpha(error):\n",
    "    '''\n",
    "    Calculate the weight of a weak classifier m in the majority vote of the final classifier. This is called\n",
    "    alpha in chapter 10.1 of The Elements of Statistical Learning. Arguments:\n",
    "    error: error rate from weak classifier m\n",
    "    '''\n",
    "    return np.log((1 - error) / error)\n",
    "\n",
    "def update_weights(w_i, alpha, y, y_pred):\n",
    "    ''' \n",
    "    Update individual weights w_i after a boosting iteration. Arguments:\n",
    "    w_i: individual weights for each observation\n",
    "    y: actual target value\n",
    "    y_pred: predicted value by weak classifier  \n",
    "    alpha: weight of weak classifier used to estimate y_pred\n",
    "    '''  \n",
    "    return w_i * np.exp(alpha * (np.not_equal(y, y_pred)).astype(int))\n",
    "\n",
    "class Ada:\n",
    "    \"\"\"\n",
    "    \n",
    "    \"\"\"\n",
    "    def __init__(self, base_estimator=DecisionTree(max_depth = 3)):\n",
    "        '''\n",
    "        Ada constructor\n",
    "        base_estimator: \n",
    "        '''\n",
    "        self.base_estimator = base_estimator\n",
    "        self.alphas = []\n",
    "        self.G_M = []\n",
    "        self.M = None\n",
    "        self.training_errors = []\n",
    "        self.prediction_errors = []\n",
    "\n",
    "    def fit(self, X, y, M = 100):\n",
    "        '''\n",
    "        Fit model. Arguments:\n",
    "        X: independent variables - array-like matrix\n",
    "        y: target variable - array-like vector\n",
    "        '''\n",
    "        \n",
    "        # Clear before calling\n",
    "        self.alphas = [] \n",
    "        self.training_errors = []\n",
    "        self.M = M\n",
    "\n",
    "        # Iterate over M weak classifiers\n",
    "        for m in range(0, M):\n",
    "            \n",
    "            # Set weights for current boosting iteration\n",
    "            if m == 0:\n",
    "                w_i = np.ones(len(y)) * 1 / len(y)  # At m = 0, weights are all the same and equal to 1 / N\n",
    "            else:\n",
    "                # (d) Update w_i\n",
    "                w_i = update_weights(w_i, alpha_m, y, y_pred)\n",
    "            \n",
    "            # (a) Fit weak classifier and predict labels\n",
    "            G_m = self.base_estimator   # Stump: Two terminal-node classification tree\n",
    "            G_m.fit(X, y, sample_weight = w_i)\n",
    "            y_pred = G_m.predict(X)\n",
    "            \n",
    "            self.G_M.append(G_m) # Save to list of weak classifiers\n",
    "\n",
    "            # (b) Compute error\n",
    "            error_m = compute_error(y, y_pred, w_i)\n",
    "            self.training_errors.append(error_m)\n",
    "\n",
    "            # (c) Compute alpha\n",
    "            alpha_m = compute_alpha(error_m)\n",
    "            self.alphas.append(alpha_m)\n",
    "\n",
    "        assert len(self.G_M) == len(self.alphas)\n",
    "\n",
    "    def predict(self, X):\n",
    "        '''\n",
    "        Predict using fitted model. Arguments:\n",
    "        X: independent variables - array-like\n",
    "        '''\n",
    "\n",
    "        # Initialise dataframe with weak predictions for each observation\n",
    "        weak_preds = pd.DataFrame(index = range(len(X)), columns = range(self.M)) \n",
    "\n",
    "        # Predict class label for each weak classifier, weighted by alpha_m\n",
    "        for m in range(self.M):\n",
    "            y_pred_m = []\n",
    "            pred = self.G_M[m].predict(X)\n",
    "            for i in range(len(pred)):\n",
    "                y_pred_m.append(pred[i]*self.alphas[m])\n",
    "            weak_preds.iloc[:,m] = y_pred_m\n",
    "\n",
    "        # Calculate final predictions\n",
    "        y_pred = (1 * np.sign(weak_preds.T.sum())).astype(int)\n",
    "\n",
    "        return y_pred, weak_preds"
   ]
  },
  {
   "cell_type": "markdown",
   "metadata": {},
   "source": [
    "Logistic Regression prediction of the training dataset."
   ]
  },
  {
   "cell_type": "code",
   "execution_count": 246,
   "metadata": {},
   "outputs": [
    {
     "name": "stdout",
     "output_type": "stream",
     "text": [
      " Training Accuray at 0 iterations is 0.4154929577464789\n"
     ]
    },
    {
     "data": {
      "text/plain": [
       "<__main__.LogisticRegression at 0x1adef3ceb50>"
      ]
     },
     "execution_count": 246,
     "metadata": {},
     "output_type": "execute_result"
    }
   ],
   "source": [
    "lr = LogisticRegression(epochs=5000)\n",
    "lr.train(x_train,y_train, lr=1e-6)"
   ]
  },
  {
   "cell_type": "markdown",
   "metadata": {},
   "source": [
    "Convert the probability of each case into the final prediction of classification. "
   ]
  },
  {
   "cell_type": "code",
   "execution_count": 159,
   "metadata": {},
   "outputs": [],
   "source": [
    "def category_pointer(y_cat, y_pred):\n",
    "    \"\"\"\n",
    "    This function translate numerical training result to categorical.\n",
    "    It also summarize which class the prediction indicated.\n",
    "    \"\"\"\n",
    "    ind = y_pred.argmax(axis=1)\n",
    "    y_class = []\n",
    "    y_pointer = list(enumerate(np.unique(y_cat)))\n",
    "    for i in range(len(ind)):\n",
    "        y_class.append(y_pointer[ind[i]][1])\n",
    "    return y_class"
   ]
  },
  {
   "cell_type": "code",
   "execution_count": 249,
   "metadata": {},
   "outputs": [],
   "source": [
    "# y_pred_train = lr.predict(np.insert(x_train, 0, 1, axis=1))\n",
    "y_pred_train = lr.predict(x_train)\n",
    "y_pred_train = category_pointer(y_cat=y_train,y_pred=y_pred_train)"
   ]
  },
  {
   "cell_type": "markdown",
   "metadata": {},
   "source": [
    "The following confusion matrix indicated that some of the cases are not correctly classified. The accuracy of the model is 82.4%. As for class=3, it did not predict correctly at all. The reason of the misclassification can be the uneven dataset split. "
   ]
  },
  {
   "cell_type": "code",
   "execution_count": 250,
   "metadata": {},
   "outputs": [
    {
     "data": {
      "text/plain": [
       "array([[52,  7,  0],\n",
       "       [ 7, 64,  0],\n",
       "       [ 3,  9,  0]], dtype=int64)"
      ]
     },
     "execution_count": 250,
     "metadata": {},
     "output_type": "execute_result"
    }
   ],
   "source": [
    "confusion_matrix(y_true=y_train, y_pred=y_pred_train)"
   ]
  },
  {
   "cell_type": "code",
   "execution_count": 168,
   "metadata": {},
   "outputs": [
    {
     "data": {
      "text/plain": [
       "0.8239"
      ]
     },
     "execution_count": 168,
     "metadata": {},
     "output_type": "execute_result"
    }
   ],
   "source": [
    "def accuracy(y_pred, y_true):\n",
    "    return round(np.sum(y_pred==y_true)/len(y_true),4)\n",
    "\n",
    "accuracy(y_pred=y_pred_train, y_true=y_train)"
   ]
  },
  {
   "cell_type": "markdown",
   "metadata": {},
   "source": [
    "Fit LDA and Project Visualization"
   ]
  },
  {
   "cell_type": "code",
   "execution_count": 170,
   "metadata": {},
   "outputs": [
    {
     "name": "stdout",
     "output_type": "stream",
     "text": [
      "Shape of X: (142, 13)\n",
      "Shape of transformed X: (142, 2)\n"
     ]
    }
   ],
   "source": [
    "# Project the data onto the 2 primary linear discriminants\n",
    "ldaModel = LinearDiscriminantAnalysis(2)\n",
    "ldaModel.fit(x_train, y_train)\n",
    "x_projected = ldaModel.transform(x_train)\n",
    "\n",
    "print(\"Shape of X:\", x_train.shape)\n",
    "print(\"Shape of transformed X:\", x_projected.shape)"
   ]
  },
  {
   "cell_type": "markdown",
   "metadata": {},
   "source": [
    "The visualization illustrated the 3 classes of cases distributed in the 2 major discriminant component. When the linear discriminant 1 is less than -8, it would probably be the same group. Otherwise, linear component 2 = 1.5 can be a divider for the other 2 groups.\n",
    "\n",
    "This division figure looks effective and clean. No overlap or misclassification cases appeared."
   ]
  },
  {
   "cell_type": "code",
   "execution_count": 171,
   "metadata": {},
   "outputs": [
    {
     "name": "stderr",
     "output_type": "stream",
     "text": [
      "c:\\Users\\youyu\\AppData\\Local\\Programs\\Python\\Python38\\lib\\site-packages\\matplotlib\\collections.py:206: ComplexWarning: Casting complex values to real discards the imaginary part\n",
      "  offsets = np.asanyarray(offsets, float)\n"
     ]
    },
    {
     "data": {
      "image/png": "[encoded data removed]",
      "text/plain": [
       "<Figure size 432x288 with 2 Axes>"
      ]
     },
     "metadata": {
      "needs_background": "light"
     },
     "output_type": "display_data"
    }
   ],
   "source": [
    "x1, x2 = x_projected[:, 0], x_projected[:, 1]\n",
    "\n",
    "plt.scatter(\n",
    "    x_projected[:, 0], x_projected[:, 1], c=y_train, edgecolor=\"none\", alpha=0.8, cmap=plt.cm.get_cmap(\"viridis\", 3)\n",
    ")\n",
    "\n",
    "plt.xlabel(\"Linear Discriminant 1\")\n",
    "plt.ylabel(\"Linear Discriminant 2\")\n",
    "plt.colorbar()\n",
    "plt.show()"
   ]
  },
  {
   "cell_type": "markdown",
   "metadata": {},
   "source": [
    "Decision Tree"
   ]
  },
  {
   "cell_type": "markdown",
   "metadata": {},
   "source": [
    "Decision tree prediction of training dataset reach 100% correct. The reason that it makes 100% correct is because decision tree has already classify each case by the conditions. If the max_depth is not too small, it will definitely classify each case into correct value. \n",
    "\n",
    "The cons is, such classification may not work as well in testing dataset as it used for training dataset. Since the training dataset and fitting process recorded too much (maybe not necessary) information about how to split the data and build the tree, overfitting can be a serious issue."
   ]
  },
  {
   "cell_type": "code",
   "execution_count": 561,
   "metadata": {},
   "outputs": [
    {
     "data": {
      "text/plain": [
       "array([[59,  0,  0],\n",
       "       [ 0, 71,  0],\n",
       "       [ 0,  0, 12]], dtype=int64)"
      ]
     },
     "execution_count": 561,
     "metadata": {},
     "output_type": "execute_result"
    }
   ],
   "source": [
    "dtclf = DecisionTree(min_samples_split=2, max_depth=4)\n",
    "dtclf.fit(x_train,y_train)\n",
    "y_pred_dtclf = dtclf.predict(x_train)\n",
    "\n",
    "confusion_matrix(y_true=y_train, y_pred=y_pred_dtclf)"
   ]
  },
  {
   "cell_type": "markdown",
   "metadata": {},
   "source": [
    "AdaBoost Training & Prediction\n",
    "\n",
    "Use Decision Tree with max depth 2 as a base estimator. Set the default of boosting time as 3. \n",
    "\n",
    "The results shows that the accuracy is 41.55% which is not ideal for prediction. class=1 cases are all correctly predicted, but the other 2 types are not correctly predicted.\n"
   ]
  },
  {
   "cell_type": "code",
   "execution_count": 609,
   "metadata": {},
   "outputs": [
    {
     "data": {
      "text/plain": [
       "<__main__.AdaBoostClassifier at 0x1adef37a4f0>"
      ]
     },
     "execution_count": 609,
     "metadata": {},
     "output_type": "execute_result"
    }
   ],
   "source": [
    "adaclf = AdaBoostClassifier(\n",
    "    base_estimator=DecisionTree(max_depth=3),\n",
    "    n_estimators = 10,\n",
    "    learning_rate = 0.001,\n",
    "    algorithm = 'SAMME'\n",
    "    )\n",
    "\n",
    "initial_weight = [1/len(x_train)]*len(x_train)\n",
    "adaclf.fit(x_train, y_train)"
   ]
  },
  {
   "cell_type": "code",
   "execution_count": 568,
   "metadata": {},
   "outputs": [
    {
     "data": {
      "text/plain": [
       "array([[57,  2,  0],\n",
       "       [ 0, 71,  0],\n",
       "       [ 0,  0, 12]], dtype=int64)"
      ]
     },
     "execution_count": 568,
     "metadata": {},
     "output_type": "execute_result"
    }
   ],
   "source": [
    "y_pred_adaclf = adaclf.predict(x_train)\n",
    "\n",
    "confusion_matrix(y_true=y_train, y_pred=y_pred_adaclf)"
   ]
  },
  {
   "cell_type": "code",
   "execution_count": 514,
   "metadata": {},
   "outputs": [],
   "source": [
    "ab = Ada(base_estimator=DecisionTree(min_samples_split=3,max_depth=2))\n",
    "ab.fit(x_train, y_train, M=3)"
   ]
  },
  {
   "cell_type": "code",
   "execution_count": 516,
   "metadata": {},
   "outputs": [
    {
     "name": "stdout",
     "output_type": "stream",
     "text": [
      "41.55\n"
     ]
    },
    {
     "data": {
      "text/plain": [
       "array([[59,  0,  0],\n",
       "       [71,  0,  0],\n",
       "       [12,  0,  0]], dtype=int64)"
      ]
     },
     "execution_count": 516,
     "metadata": {},
     "output_type": "execute_result"
    }
   ],
   "source": [
    "y_pred_ab, weak_preds = ab.predict(x_train)\n",
    "\n",
    "print(accuracy(y_pred=y_pred_ab, y_true=y_train)*100)\n",
    "\n",
    "confusion_matrix(y_true=y_train, y_pred=y_pred_ab)"
   ]
  },
  {
   "cell_type": "markdown",
   "metadata": {},
   "source": [
    "b) Predict the models using the test dataset, and provide the performance metrics. Compare the five models' performance metrics, and explain at least four findings on each of the models. Do not need to repeat the code). (10 points)"
   ]
  },
  {
   "cell_type": "markdown",
   "metadata": {},
   "source": [
    "Comparing the accuracy and confusion matrix, the performance on logistic regression did not predict correctly at all. \n",
    "\n",
    "The reason can be the Y differences between training and testing data. \n",
    "\n",
    "The training data contains a lot of class=1 and class=2. However, the testing data are all class=3. Such difference will degrade the training weights. "
   ]
  },
  {
   "cell_type": "code",
   "execution_count": 224,
   "metadata": {},
   "outputs": [
    {
     "data": {
      "text/plain": [
       "0.0"
      ]
     },
     "execution_count": 224,
     "metadata": {},
     "output_type": "execute_result"
    }
   ],
   "source": [
    "y_pred_test_lr = lr.predict(np.insert(x_test, 0, 1, axis=1))\n",
    "y_pred_test_lr = category_pointer(y_cat=y_train,y_pred=y_pred_test_lr)\n",
    "\n",
    "accuracy(y_pred=y_pred_test_lr, y_true=y_test)"
   ]
  },
  {
   "cell_type": "code",
   "execution_count": 226,
   "metadata": {},
   "outputs": [
    {
     "data": {
      "text/plain": [
       "array([[ 0,  0,  0],\n",
       "       [ 0,  0,  0],\n",
       "       [ 2, 34,  0]], dtype=int64)"
      ]
     },
     "execution_count": 226,
     "metadata": {},
     "output_type": "execute_result"
    }
   ],
   "source": [
    "confusion_matrix(y_true=y_test, y_pred=y_pred_test_lr)"
   ]
  },
  {
   "cell_type": "code",
   "execution_count": 229,
   "metadata": {},
   "outputs": [
    {
     "data": {
      "text/plain": [
       "array([3, 3, 3, 3, 3, 3, 3, 3, 3, 3, 3, 3, 3, 3, 3, 3, 3, 3, 3, 3, 3, 3,\n",
       "       3, 3, 3, 3, 3, 3, 3, 3, 3, 3, 3, 3, 3, 3], dtype=int64)"
      ]
     },
     "execution_count": 229,
     "metadata": {},
     "output_type": "execute_result"
    }
   ],
   "source": [
    "y_test"
   ]
  },
  {
   "cell_type": "markdown",
   "metadata": {},
   "source": [
    "The LDA project could not devide the categories in testing data, because the testing data only have class=3, and thus LDA could not separate classes as far as possible. \n",
    "\n",
    "In this graph, the only category in the test dataset is class=3, and we don't have any other group to separated from. "
   ]
  },
  {
   "cell_type": "code",
   "execution_count": 232,
   "metadata": {},
   "outputs": [
    {
     "name": "stdout",
     "output_type": "stream",
     "text": [
      "Shape of X: (36, 2)\n",
      "Shape of transformed X: (36, 2)\n"
     ]
    },
    {
     "name": "stderr",
     "output_type": "stream",
     "text": [
      "c:\\Users\\youyu\\AppData\\Local\\Programs\\Python\\Python38\\lib\\site-packages\\matplotlib\\collections.py:206: ComplexWarning: Casting complex values to real discards the imaginary part\n",
      "  offsets = np.asanyarray(offsets, float)\n"
     ]
    },
    {
     "data": {
      "image/png": "[encoded data removed]",
      "text/plain": [
       "<Figure size 432x288 with 2 Axes>"
      ]
     },
     "metadata": {
      "needs_background": "light"
     },
     "output_type": "display_data"
    }
   ],
   "source": [
    "y_project_test = ldaModel.transform(x_test)\n",
    "print(\"Shape of X:\", y_project_test.shape)\n",
    "print(\"Shape of transformed X:\", y_project_test.shape)\n",
    "\n",
    "x1, x2 = y_project_test[:, 0], y_project_test[:, 1]\n",
    "\n",
    "plt.scatter(\n",
    "    x1, x2, c=y_test, edgecolor=\"none\", alpha=0.8, cmap=plt.cm.get_cmap(\"viridis\", 3)\n",
    ")\n",
    "\n",
    "plt.xlabel(\"Linear Discriminant 1\")\n",
    "plt.ylabel(\"Linear Discriminant 2\")\n",
    "plt.colorbar()\n",
    "plt.show()"
   ]
  },
  {
   "cell_type": "markdown",
   "metadata": {},
   "source": [
    "The Decision Tree prediction result are described below.\n",
    "\n",
    "The accuracy is 75%, which is much higher than 0% from logistic regression. The reason it was higher is because decision tree has better performance on extreme cases. "
   ]
  },
  {
   "cell_type": "code",
   "execution_count": 271,
   "metadata": {},
   "outputs": [
    {
     "data": {
      "text/plain": [
       "array([[ 0,  0,  0],\n",
       "       [ 0,  0,  0],\n",
       "       [ 4,  5, 27]], dtype=int64)"
      ]
     },
     "execution_count": 271,
     "metadata": {},
     "output_type": "execute_result"
    }
   ],
   "source": [
    "y_pred_test_dtclf = dtclf.predict(x_test)\n",
    "\n",
    "confusion_matrix(y_true=y_test, y_pred=y_pred_test_dtclf)"
   ]
  },
  {
   "cell_type": "code",
   "execution_count": 266,
   "metadata": {},
   "outputs": [
    {
     "data": {
      "text/plain": [
       "0.75"
      ]
     },
     "execution_count": 266,
     "metadata": {},
     "output_type": "execute_result"
    }
   ],
   "source": [
    "accuracy(y_pred=y_pred_test_dtclf, y_true=y_test)"
   ]
  },
  {
   "cell_type": "markdown",
   "metadata": {},
   "source": [
    "AdaBoost with Decision Tree as a base estimator will result 0 in accuracy. Because none of the test cases including class=1. This AdaBoost model did not work well on class=3 prediction."
   ]
  },
  {
   "cell_type": "code",
   "execution_count": 556,
   "metadata": {},
   "outputs": [
    {
     "data": {
      "text/plain": [
       "0.75"
      ]
     },
     "execution_count": 556,
     "metadata": {},
     "output_type": "execute_result"
    }
   ],
   "source": [
    "y_pred_test_adaclf = adaclf.predict(x_test)\n",
    "\n",
    "accuracy(y_true=y_test, y_pred=y_pred_test_adaclf)"
   ]
  },
  {
   "cell_type": "code",
   "execution_count": 518,
   "metadata": {},
   "outputs": [
    {
     "name": "stderr",
     "output_type": "stream",
     "text": [
      "C:\\Users\\youyu\\AppData\\Local\\Temp/ipykernel_4248/3908507820.py:2: VisibleDeprecationWarning: Creating an ndarray from ragged nested sequences (which is a list-or-tuple of lists-or-tuples-or ndarrays with different lengths or shapes) is deprecated. If you meant to do this, you must specify 'dtype=object' when creating the ndarray.\n",
      "  return round(np.sum(y_pred==y_true)/len(y_true),4)\n",
      "C:\\Users\\youyu\\AppData\\Local\\Temp/ipykernel_4248/3908507820.py:2: DeprecationWarning: elementwise comparison failed; this will raise an error in the future.\n",
      "  return round(np.sum(y_pred==y_true)/len(y_true),4)\n"
     ]
    },
    {
     "data": {
      "text/plain": [
       "0.0"
      ]
     },
     "execution_count": 518,
     "metadata": {},
     "output_type": "execute_result"
    }
   ],
   "source": [
    "y_pred_test_ab = ab.predict(x_test)\n",
    "\n",
    "accuracy(y_true=y_test, y_pred=y_pred_test_ab)"
   ]
  },
  {
   "cell_type": "markdown",
   "metadata": {},
   "source": [
    "c) Do you see any overfitting and underfitting issues on each model? How to overcome the overfitting/underfitting issues in your custom models? Provide the information model by model. (10 points)\n",
    "\n",
    "Yes, all models, except AdaBoost, have overfitting issues. It was mainly because the data split part did not separate data and classes well. Thus the training dataset does not include class=3 cases, and training process does not have records for class=3. When we predict the testing data with training records, it would be hard to find a good match and classification. \n",
    "\n",
    "In order to overcome this issue, we can re-split the original data again, and make sure training data includes similar cases in testing data. It means the training data should include more cases when class=3. "
   ]
  },
  {
   "cell_type": "markdown",
   "metadata": {},
   "source": [
    "d) List down the important features in each model? How did you choose those important features? Why is it an important feature of the model? Explain with some statistical evidence. (5 points)"
   ]
  },
  {
   "cell_type": "markdown",
   "metadata": {},
   "source": [
    "For Logistic regression, we can see the index of the largest weight in 3 categories. Since column 4 (Acl) are the most important feature in both class=2 and class=3, we can decide that this column is the most important. "
   ]
  },
  {
   "cell_type": "code",
   "execution_count": 526,
   "metadata": {},
   "outputs": [
    {
     "name": "stdout",
     "output_type": "stream",
     "text": [
      "0.015055070642947577\n",
      "12\n",
      "0.09206366291483811\n",
      "4\n",
      "0.007414943976237376\n",
      "4\n"
     ]
    }
   ],
   "source": [
    "for i in range(3):\n",
    "    print(lr.weights[i].max())\n",
    "    print(lr.weights[i].argmax())"
   ]
  },
  {
   "cell_type": "code",
   "execution_count": 527,
   "metadata": {},
   "outputs": [
    {
     "data": {
      "text/plain": [
       "'Acl'"
      ]
     },
     "execution_count": 527,
     "metadata": {},
     "output_type": "execute_result"
    }
   ],
   "source": [
    "df.columns[4]"
   ]
  },
  {
   "cell_type": "markdown",
   "metadata": {},
   "source": [
    "LDA is aiming to separate the groups as far as possible. In order to divide the classifications, the difference of the most important feature will be focused. "
   ]
  },
  {
   "cell_type": "code",
   "execution_count": 355,
   "metadata": {},
   "outputs": [
    {
     "data": {
      "text/plain": [
       "Index(['Alcohol', 'Malic.acid', 'Ash', 'Acl', 'Mg', 'Phenols', 'Flavanoids',\n",
       "       'Nonflavanoid.phenols', 'Proanth', 'Color.int', 'Hue', 'OD', 'Proline'],\n",
       "      dtype='object')"
      ]
     },
     "execution_count": 355,
     "metadata": {},
     "output_type": "execute_result"
    }
   ],
   "source": [
    "df.columns[1:]"
   ]
  },
  {
   "cell_type": "code",
   "execution_count": 363,
   "metadata": {},
   "outputs": [
    {
     "name": "stdout",
     "output_type": "stream",
     "text": [
      "The most important feature of LDA is Index(['Phenols'], dtype='object')\n"
     ]
    }
   ],
   "source": [
    "lda_feature_ind = np.where(ldaModel.linear_discriminants[0] == ldaModel.linear_discriminants[0].max())\n",
    "\n",
    "print(f\"The most important feature of LDA component 1 is {df.columns[1:][lda_feature_ind]}\")"
   ]
  },
  {
   "cell_type": "code",
   "execution_count": 365,
   "metadata": {},
   "outputs": [
    {
     "name": "stdout",
     "output_type": "stream",
     "text": [
      "The most important feature of LDA component 2 is Index(['Ash'], dtype='object')\n"
     ]
    }
   ],
   "source": [
    "lda_feature_ind2 = np.where(ldaModel.linear_discriminants[1] == ldaModel.linear_discriminants[1].max())\n",
    "\n",
    "print(f\"The most important feature of LDA component 2 is {df.columns[1:][lda_feature_ind2]}\")"
   ]
  },
  {
   "cell_type": "markdown",
   "metadata": {},
   "source": [
    "For decision tree classifier, the most important feature is OD because it's the root feature. The method to calculate each root is to find the most important feature and the threshold of the feature to make the best split. Thus the root and its threshold is the most important one. \n",
    "\n",
    "Also, the best split was made based on the information gain. The information gain is calculated through the parent info gain - weighted child info gain. This step guaranteed that the root split made the largest information gain reduced among all the features and all the possible split ways."
   ]
  },
  {
   "cell_type": "code",
   "execution_count": 534,
   "metadata": {},
   "outputs": [
    {
     "data": {
      "text/plain": [
       "'OD'"
      ]
     },
     "execution_count": 534,
     "metadata": {},
     "output_type": "execute_result"
    }
   ],
   "source": [
    "df.columns[dtclf.root.feature_index]"
   ]
  },
  {
   "cell_type": "code",
   "execution_count": 535,
   "metadata": {},
   "outputs": [
    {
     "name": "stdout",
     "output_type": "stream",
     "text": [
      "X_12 <= 750.0 ? 0.3473538756391141\n",
      " left:X_6 <= 1.22 ? 0.1489821326061997\n",
      "  left:X_9 <= 3.27 ? 0.3550295857988165\n",
      "    left:2.0\n",
      "    right:3.0\n",
      "  right:X_11 <= 1.29 ? 0.028541147721366282\n",
      "    left:3.0\n",
      "    right:X_0 <= 13.11 ? 0.018365472910927313\n",
      "        left:2.0\n",
      "        right:X_0 <= 13.24 ? 0.4444444444444444\n",
      "                left:1.0\n",
      "                right:2.0\n",
      " right:X_9 <= 3.35 ? 0.11866231296422554\n",
      "  left:2.0\n",
      "  right:X_5 <= 1.4 ? 0.03388822829964333\n",
      "    left:3.0\n",
      "    right:1.0\n"
     ]
    }
   ],
   "source": [
    "dtclf.print_tree(tree=dtclf.root)"
   ]
  },
  {
   "cell_type": "markdown",
   "metadata": {},
   "source": [
    "AdaBoost classifier has the same most important feature as Decision Tree Classifier, because AdaBoost use Decision Tree Classifier as the base estimator. "
   ]
  },
  {
   "cell_type": "code",
   "execution_count": 542,
   "metadata": {},
   "outputs": [
    {
     "name": "stdout",
     "output_type": "stream",
     "text": [
      "OD\n",
      "OD\n",
      "OD\n"
     ]
    }
   ],
   "source": [
    "for i in range(ab.M):\n",
    "    print(df.columns[ab.G_M[i].root.feature_index])"
   ]
  }
 ],
 "metadata": {
  "kernelspec": {
   "display_name": "Python 3.8.8 64-bit",
   "language": "python",
   "name": "python3"
  },
  "language_info": {
   "codemirror_mode": {
    "name": "ipython",
    "version": 3
   },
   "file_extension": ".py",
   "mimetype": "text/x-python",
   "name": "python",
   "nbconvert_exporter": "python",
   "pygments_lexer": "ipython3",
   "version": "3.8.8"
  },
  "orig_nbformat": 4,
  "vscode": {
   "interpreter": {
    "hash": "82f6ad5c16f96bd4c09885635dc45a9905d4ac7b1c081542d45b0fe5279d5fc5"
   }
  }
 },
 "nbformat": 4,
 "nbformat_minor": 2
}
