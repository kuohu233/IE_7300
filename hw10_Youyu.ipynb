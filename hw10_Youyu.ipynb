{
 "cells": [
  {
   "cell_type": "markdown",
   "metadata": {},
   "source": [
    "<center>IE 7300: Statistical Learning for Engineering</center>\n",
    "<center>HW 10</center>\n",
    "<center>Youyu Zhang</center>\n",
    "<center>zhang.youy@northeastern.edu</center>\n",
    "<center>(530)574-2826</center>\n",
    "<center>Code available on: https://github.com/kuohu233/IE_7300</center>\n",
    "<center>Submitted by 12/6/2022</center>"
   ]
  },
  {
   "cell_type": "code",
   "execution_count": 2,
   "metadata": {},
   "outputs": [],
   "source": [
    "import numpy as np\n",
    "import pandas as pd\n",
    "import matplotlib.pyplot as plt\n",
    "import seaborn as sns\n",
    "import itertools"
   ]
  },
  {
   "cell_type": "markdown",
   "metadata": {},
   "source": [
    "#### 1. Compare your model performance with different numbers of hidden nodes"
   ]
  },
  {
   "cell_type": "code",
   "execution_count": 3,
   "metadata": {},
   "outputs": [],
   "source": [
    "# Import dataset. Critical temperature unit: K\n",
    "dataset = pd.read_csv('train.csv')       # Main feature dataset\n",
    "formula = pd.read_csv('unique_m.csv')    # Formula of materials."
   ]
  },
  {
   "cell_type": "code",
   "execution_count": 78,
   "metadata": {},
   "outputs": [
    {
     "data": {
      "text/plain": [
       "(21263, 81)"
      ]
     },
     "execution_count": 78,
     "metadata": {},
     "output_type": "execute_result"
    }
   ],
   "source": [
    "x = dataset.iloc[:,0:dataset.shape[1]-1]\n",
    "y = dataset[\"critical_temp\"].values.reshape(x.shape[0], 1)\n",
    "y_true = dataset[\"critical_temp\"]\n",
    "x.shape"
   ]
  },
  {
   "cell_type": "markdown",
   "metadata": {},
   "source": [
    "Split data and standarization."
   ]
  },
  {
   "cell_type": "code",
   "execution_count": 85,
   "metadata": {},
   "outputs": [],
   "source": [
    "from sklearn.model_selection import train_test_split\n",
    "from sklearn.preprocessing import StandardScaler\n",
    "\n",
    "#split data into train and test set\n",
    "Xtrain, Xtest, ytrain, ytest, ytrue_train, ytrue_test = train_test_split(np.array(x), np.array(y), y_true, test_size=0.2, random_state=2)"
   ]
  },
  {
   "cell_type": "code",
   "execution_count": 80,
   "metadata": {},
   "outputs": [
    {
     "name": "stdout",
     "output_type": "stream",
     "text": [
      "Shape of train set is (17010, 81)\n",
      "Shape of test set is (4253, 81)\n",
      "Shape of train label is (17010, 1)\n",
      "Shape of test labels is (4253, 1)\n"
     ]
    }
   ],
   "source": [
    "sc = StandardScaler()\n",
    "sc.fit(Xtrain)\n",
    "Xtrain = sc.transform(Xtrain)\n",
    "Xtest = sc.transform(Xtest)\n",
    "\n",
    "print(f\"Shape of train set is {Xtrain.shape}\")\n",
    "print(f\"Shape of test set is {Xtest.shape}\")\n",
    "print(f\"Shape of train label is {ytrain.shape}\")\n",
    "print(f\"Shape of test labels is {ytest.shape}\")"
   ]
  },
  {
   "cell_type": "code",
   "execution_count": 269,
   "metadata": {
    "id": "76d5wwArRIiS"
   },
   "outputs": [],
   "source": [
    "class NeuralNet():\n",
    "    '''\n",
    "    A two layer neural network\n",
    "    '''\n",
    "        \n",
    "    def __init__(self, layers=[13,8,1], learning_rate=0.001, iterations=100):\n",
    "        self.params = {}\n",
    "        self.learning_rate = learning_rate\n",
    "        self.iterations = iterations\n",
    "        self.loss = []\n",
    "        self.sample_size = None\n",
    "        self.layers = layers\n",
    "        self.X = None\n",
    "        self.y = None\n",
    "                \n",
    "    def init_weights(self):\n",
    "        '''\n",
    "        Initialize the weights from a random normal distribution\n",
    "        '''\n",
    "        np.random.seed(1) # Seed the random number generator\n",
    "        for i in range(len(self.layers)-1):\n",
    "            ws = \"W\"+str(i+1)\n",
    "            bs = \"b\"+str(i+1)\n",
    "            self.params[ws] = np.random.randn(self.layers[i], self.layers[i+1]) \n",
    "            self.params[bs] =np.random.randn(self.layers[i+1],)\n",
    "        # self.params[\"W1\"] = np.random.randn(self.layers[0], self.layers[1]) \n",
    "        # self.params['b1']  =np.random.randn(self.layers[1],)\n",
    "        # self.params['W2'] = np.random.randn(self.layers[1],self.layers[2]) \n",
    "        # self.params['b2'] = np.random.randn(self.layers[2],)\n",
    "    \n",
    "    def relu(self,Z):\n",
    "        '''\n",
    "        The ReLu activation function is to performs a threshold\n",
    "        operation to each input element where values less \n",
    "        than zero are set to zero.\n",
    "        '''\n",
    "        return np.maximum(0,Z)\n",
    "\n",
    "    def dRelu(self, x):\n",
    "        x[x<=0] = 0\n",
    "        x[x>0] = 1\n",
    "        return x\n",
    "\n",
    "    def eta(self, x):\n",
    "      ETA = 0.0000000001\n",
    "      return np.maximum(x, ETA)\n",
    "\n",
    "    def tanh(self, Z):\n",
    "        # t=(np.exp(Z)-np.exp(-Z))/(np.exp(Z)+np.exp(-Z))\n",
    "        t = np.tanh(Z)\n",
    "        return t\n",
    "\n",
    "    def dtanh(self, Z):\n",
    "        t=(np.exp(Z)-np.exp(-Z))/(np.exp(Z)+np.exp(-Z))\n",
    "        dt=1-t**2\n",
    "        return dt\n",
    "\n",
    "    def linear(self, Z):\n",
    "        return Z\n",
    "    \n",
    "    def dlinear(self, Z):\n",
    "        return 1\n",
    "\n",
    "    def sigmoid(self,Z):\n",
    "        '''\n",
    "        The sigmoid function takes in real numbers in any range and \n",
    "        squashes it to a real-valued output between 0 and 1.\n",
    "        '''\n",
    "        return 1/(1+np.exp(-Z))\n",
    "\n",
    "    def entropy_loss(self,y, yhat):\n",
    "        nsample = len(y)\n",
    "        yhat_inv = 1.0 - yhat\n",
    "        y_inv = 1.0 - y\n",
    "        yhat = self.eta(yhat) ## clips value to avoid NaNs in log\n",
    "        yhat_inv = self.eta(yhat_inv) \n",
    "        loss = -1/nsample * (np.sum(np.multiply(np.log(yhat), y) + np.multiply((y_inv), np.log(yhat_inv))))\n",
    "        return loss\n",
    "\n",
    "    def forward_propagation(self):\n",
    "        '''\n",
    "        Performs the forward propagation\n",
    "        '''\n",
    "        # print(f\"self params shape:{self.params['W1']}\")\n",
    "        Z1 = self.X.dot(self.params['W1']) + self.params['b1']\n",
    "        A1 = self.relu(Z1)\n",
    "        Z2 = A1.dot(self.params['W2']) + self.params['b2']\n",
    "        yhat = self.sigmoid(Z2)\n",
    "        loss = self.entropy_loss(self.y,yhat)\n",
    "\n",
    "        # save calculated parameters     \n",
    "        self.params['Z1'] = Z1\n",
    "        self.params['Z2'] = Z2\n",
    "        self.params['A1'] = A1\n",
    "\n",
    "        return yhat,loss\n",
    "\n",
    "    def forward_propagation2(self):\n",
    "        '''\n",
    "        Performs the forward propagation\n",
    "        '''\n",
    "        # print(f\"self params shape:{self.params['W1']}\")\n",
    "        Z1 = self.X.dot(self.params['W1']) + self.params['b1']\n",
    "        A1 = self.tanh(Z1)\n",
    "        Z2 = A1.dot(self.params['W2']) + self.params['b2']\n",
    "        yhat = self.linear(Z2)\n",
    "        loss = self.entropy_loss(self.y,yhat)\n",
    "\n",
    "        # save calculated parameters     \n",
    "        self.params['Z1'] = Z1\n",
    "        self.params['Z2'] = Z2\n",
    "        self.params['A1'] = A1\n",
    "\n",
    "        return yhat,loss\n",
    "\n",
    "    def back_propagation(self,yhat):\n",
    "        '''\n",
    "        Computes the derivatives and update weights and bias according.\n",
    "        '''\n",
    "        y_inv = 1 - self.y\n",
    "        yhat_inv = 1 - yhat\n",
    "\n",
    "        dl_wrt_yhat = np.divide(y_inv, self.eta(yhat_inv)) - np.divide(self.y, self.eta(yhat))\n",
    "        dl_wrt_sig = yhat * (yhat_inv)\n",
    "        dl_wrt_z2 = dl_wrt_yhat * dl_wrt_sig\n",
    "\n",
    "        dl_wrt_A1 = dl_wrt_z2.dot(self.params['W2'].T)\n",
    "        dl_wrt_w2 = self.params['A1'].T.dot(dl_wrt_z2)\n",
    "        dl_wrt_b2 = np.sum(dl_wrt_z2, axis=0, keepdims=True)\n",
    "\n",
    "        dl_wrt_z1 = dl_wrt_A1 * self.dRelu(self.params['Z1'])\n",
    "        dl_wrt_w1 = self.X.T.dot(dl_wrt_z1)\n",
    "        dl_wrt_b1 = np.sum(dl_wrt_z1, axis=0, keepdims=True)\n",
    "\n",
    "        #update the weights and bias\n",
    "        self.params['W1'] = self.params['W1'] - self.learning_rate * dl_wrt_w1\n",
    "        self.params['W2'] = self.params['W2'] - self.learning_rate * dl_wrt_w2\n",
    "        self.params['b1'] = self.params['b1'] - self.learning_rate * dl_wrt_b1\n",
    "        self.params['b2'] = self.params['b2'] - self.learning_rate * dl_wrt_b2\n",
    "\n",
    "    def back_propagation2(self,yhat):\n",
    "        '''\n",
    "        Computes the derivatives and update weights and bias according.\n",
    "        '''\n",
    "        y_inv = 1 - self.y\n",
    "        yhat_inv = 1 - yhat\n",
    "\n",
    "        dl_wrt_yhat = np.divide(y_inv, self.eta(yhat_inv)) - np.divide(self.y, self.eta(yhat))\n",
    "        dl_wrt_sig = yhat * (yhat_inv)\n",
    "        dl_wrt_z2 = dl_wrt_yhat * 1\n",
    "\n",
    "        dl_wrt_A1 = dl_wrt_z2.dot(self.params['W2'].T)\n",
    "        dl_wrt_w2 = self.params['A1'].T.dot(dl_wrt_z2)\n",
    "        dl_wrt_b2 = np.sum(dl_wrt_z2, axis=0, keepdims=True)\n",
    "\n",
    "        dl_wrt_z1 = dl_wrt_A1 * self.dtanh(self.params['Z1'])\n",
    "        dl_wrt_w1 = self.X.T.dot(dl_wrt_z1)\n",
    "        dl_wrt_b1 = np.sum(dl_wrt_z1, axis=0, keepdims=True)\n",
    "\n",
    "        #update the weights and bias\n",
    "        self.params['W1'] = self.params['W1'] - self.learning_rate * dl_wrt_w1\n",
    "        self.params['W2'] = self.params['W2'] - self.learning_rate * dl_wrt_w2\n",
    "        self.params['b1'] = self.params['b1'] - self.learning_rate * dl_wrt_b1\n",
    "        self.params['b2'] = self.params['b2'] - self.learning_rate * dl_wrt_b2\n",
    "\n",
    "    def fit(self, X, y):\n",
    "        '''\n",
    "        Trains the neural network using the specified data and labels\n",
    "        '''\n",
    "        self.X = X\n",
    "        self.y = y\n",
    "        self.init_weights() #initialize weights and bias\n",
    "\n",
    "\n",
    "        for i in range(self.iterations):\n",
    "            yhat, loss = self.forward_propagation()\n",
    "            self.back_propagation(yhat)\n",
    "            self.loss.append(loss)\n",
    "\n",
    "    def fit2(self, X, y):\n",
    "        '''\n",
    "        Trains the neural network using the specified data and labels\n",
    "        '''\n",
    "        self.X = X\n",
    "        self.y = y\n",
    "        self.init_weights() #initialize weights and bias\n",
    "\n",
    "\n",
    "        for i in range(self.iterations):\n",
    "            yhat, loss = self.forward_propagation2()\n",
    "            # self.back_propagation2(yhat)\n",
    "            self.loss.append(loss)\n",
    "\n",
    "    def predict(self, X):\n",
    "        '''\n",
    "        Predicts on a test data\n",
    "        '''\n",
    "        Z1 = X.dot(self.params['W1']) + self.params['b1']\n",
    "        A1 = self.relu(Z1)\n",
    "        Z2 = A1.dot(self.params['W2']) + self.params['b2']\n",
    "        pred = self.sigmoid(Z2)\n",
    "        return np.round(pred) \n",
    "\n",
    "    def predict2(self, X):\n",
    "        '''\n",
    "        Predicts on a test data\n",
    "        '''\n",
    "        Z1 = X.dot(self.params['W1']) + self.params['b1']\n",
    "        A1 = self.tanh(Z1)\n",
    "        Z2 = A1.dot(self.params['W2']) + self.params['b2']\n",
    "        pred = self.linear(Z2)\n",
    "        return np.round(pred) \n",
    "\n",
    "    def acc(self, y, yhat):\n",
    "        '''\n",
    "        Calculates the accuracy between the predicted values and actual\n",
    "        '''\n",
    "        acc = int(sum(y == yhat) / len(y) * 100)\n",
    "        return acc\n",
    "\n",
    "\n",
    "    def plot_loss(self):\n",
    "        '''\n",
    "        Plots the loss curve\n",
    "        '''\n",
    "        plt.plot(self.loss)\n",
    "        plt.xlabel(\"Iteration\")\n",
    "        plt.ylabel(\"logloss\")\n",
    "        plt.title(\"Loss curve for training\")\n",
    "        plt.show()  "
   ]
  },
  {
   "cell_type": "code",
   "execution_count": 281,
   "metadata": {
    "id": "IbzELPy9WOY4"
   },
   "outputs": [
    {
     "name": "stderr",
     "output_type": "stream",
     "text": [
      "C:\\Users\\youyu\\AppData\\Local\\Temp/ipykernel_31640/2579518989.py:69: RuntimeWarning: overflow encountered in exp\n",
      "  return 1/(1+np.exp(-Z))\n"
     ]
    }
   ],
   "source": [
    "nn1 = NeuralNet(layers=[Xtrain.shape[1], 10, 1],\n",
    "     learning_rate=0.001, iterations=100) # create the NN model\n",
    "nn1.fit(Xtrain, ytrain) #train the model"
   ]
  },
  {
   "cell_type": "code",
   "execution_count": 111,
   "metadata": {},
   "outputs": [
    {
     "name": "stdout",
     "output_type": "stream",
     "text": [
      "Train accuracy is 0\n",
      "Test accuracy is 0\n"
     ]
    },
    {
     "name": "stderr",
     "output_type": "stream",
     "text": [
      "C:\\Users\\youyu\\AppData\\Local\\Temp/ipykernel_31640/1925195097.py:61: RuntimeWarning: overflow encountered in exp\n",
      "  return 1/(1+np.exp(-Z))\n"
     ]
    }
   ],
   "source": [
    "train_pred1 = nn1.predict(Xtrain)\n",
    "test_pred1 = nn1.predict(Xtest)\n",
    "\n",
    "print(\"Train accuracy is {}\".format(nn1.acc(ytrain, train_pred1)))\n",
    "print(\"Test accuracy is {}\".format(nn1.acc(ytest, test_pred1)))"
   ]
  },
  {
   "cell_type": "code",
   "execution_count": 92,
   "metadata": {},
   "outputs": [
    {
     "data": {
      "text/html": [
       "<div>\n",
       "<style scoped>\n",
       "    .dataframe tbody tr th:only-of-type {\n",
       "        vertical-align: middle;\n",
       "    }\n",
       "\n",
       "    .dataframe tbody tr th {\n",
       "        vertical-align: top;\n",
       "    }\n",
       "\n",
       "    .dataframe thead th {\n",
       "        text-align: right;\n",
       "    }\n",
       "</style>\n",
       "<table border=\"1\" class=\"dataframe\">\n",
       "  <thead>\n",
       "    <tr style=\"text-align: right;\">\n",
       "      <th></th>\n",
       "      <th>Y</th>\n",
       "      <th>Y_predict</th>\n",
       "      <th>cost</th>\n",
       "    </tr>\n",
       "  </thead>\n",
       "  <tbody>\n",
       "    <tr>\n",
       "      <th>11065</th>\n",
       "      <td>0.50</td>\n",
       "      <td>1.0</td>\n",
       "      <td>0.2500</td>\n",
       "    </tr>\n",
       "    <tr>\n",
       "      <th>5689</th>\n",
       "      <td>40.00</td>\n",
       "      <td>1.0</td>\n",
       "      <td>1521.0000</td>\n",
       "    </tr>\n",
       "    <tr>\n",
       "      <th>2176</th>\n",
       "      <td>84.00</td>\n",
       "      <td>1.0</td>\n",
       "      <td>6889.0000</td>\n",
       "    </tr>\n",
       "    <tr>\n",
       "      <th>9595</th>\n",
       "      <td>32.20</td>\n",
       "      <td>1.0</td>\n",
       "      <td>973.4400</td>\n",
       "    </tr>\n",
       "    <tr>\n",
       "      <th>9034</th>\n",
       "      <td>78.10</td>\n",
       "      <td>1.0</td>\n",
       "      <td>5944.4100</td>\n",
       "    </tr>\n",
       "    <tr>\n",
       "      <th>...</th>\n",
       "      <td>...</td>\n",
       "      <td>...</td>\n",
       "      <td>...</td>\n",
       "    </tr>\n",
       "    <tr>\n",
       "      <th>1099</th>\n",
       "      <td>92.50</td>\n",
       "      <td>1.0</td>\n",
       "      <td>8372.2500</td>\n",
       "    </tr>\n",
       "    <tr>\n",
       "      <th>18898</th>\n",
       "      <td>17.10</td>\n",
       "      <td>1.0</td>\n",
       "      <td>259.2100</td>\n",
       "    </tr>\n",
       "    <tr>\n",
       "      <th>11798</th>\n",
       "      <td>0.21</td>\n",
       "      <td>1.0</td>\n",
       "      <td>0.6241</td>\n",
       "    </tr>\n",
       "    <tr>\n",
       "      <th>6637</th>\n",
       "      <td>88.40</td>\n",
       "      <td>1.0</td>\n",
       "      <td>7638.7600</td>\n",
       "    </tr>\n",
       "    <tr>\n",
       "      <th>2575</th>\n",
       "      <td>56.00</td>\n",
       "      <td>1.0</td>\n",
       "      <td>3025.0000</td>\n",
       "    </tr>\n",
       "  </tbody>\n",
       "</table>\n",
       "<p>17010 rows × 3 columns</p>\n",
       "</div>"
      ],
      "text/plain": [
       "           Y  Y_predict       cost\n",
       "11065   0.50        1.0     0.2500\n",
       "5689   40.00        1.0  1521.0000\n",
       "2176   84.00        1.0  6889.0000\n",
       "9595   32.20        1.0   973.4400\n",
       "9034   78.10        1.0  5944.4100\n",
       "...      ...        ...        ...\n",
       "1099   92.50        1.0  8372.2500\n",
       "18898  17.10        1.0   259.2100\n",
       "11798   0.21        1.0     0.6241\n",
       "6637   88.40        1.0  7638.7600\n",
       "2575   56.00        1.0  3025.0000\n",
       "\n",
       "[17010 rows x 3 columns]"
      ]
     },
     "execution_count": 92,
     "metadata": {},
     "output_type": "execute_result"
    }
   ],
   "source": [
    "cost_train1 = (ytrain-train_pred1)**2\n",
    "prediction_train1 = pd.DataFrame({\"Y\": ytrue_train, \n",
    "    \"Y_predict\": train_pred1.reshape(train_pred1.shape[0]),\n",
    "    \"cost\":cost_train1.reshape(cost_train1.shape[0])})\n",
    "prediction_train1"
   ]
  },
  {
   "cell_type": "code",
   "execution_count": 282,
   "metadata": {},
   "outputs": [
    {
     "name": "stdout",
     "output_type": "stream",
     "text": [
      "RMSE of NN on training dataset = 47.995\n",
      "R2 score = -inf\n"
     ]
    },
    {
     "name": "stderr",
     "output_type": "stream",
     "text": [
      "C:\\Users\\youyu\\AppData\\Local\\Temp/ipykernel_31640/2353467826.py:2: RuntimeWarning: divide by zero encountered in true_divide\n",
      "  r2_train1= 1-sum(cost_train1)/sum((np.array(train_pred1.reshape(train_pred1.shape[0]))-sum(np.array(train_pred1.reshape(train_pred1.shape[0])))/len(np.array(train_pred1.reshape(train_pred1.shape[0]))))**2)\n"
     ]
    }
   ],
   "source": [
    "rmse_train1 = np.sqrt(sum(cost_train1)/len(cost_train1))\n",
    "r2_train1= 1-sum(cost_train1)/sum((np.array(train_pred1.reshape(train_pred1.shape[0]))-sum(np.array(train_pred1.reshape(train_pred1.shape[0])))/len(np.array(train_pred1)))**2)\n",
    "\n",
    "print(f'RMSE of NN on training dataset = {round(rmse_train1[0],3)}')\n",
    "print(f'R2 score = {round(r2_train1[0],3)}')"
   ]
  },
  {
   "cell_type": "code",
   "execution_count": 94,
   "metadata": {},
   "outputs": [
    {
     "data": {
      "image/png": "[encoded data removed]",
      "text/plain": [
       "<Figure size 432x288 with 1 Axes>"
      ]
     },
     "metadata": {
      "needs_background": "light"
     },
     "output_type": "display_data"
    }
   ],
   "source": [
    "plt.scatter(prediction_train1['Y'], prediction_train1['Y_predict'], label='True')\n",
    "plt.plot(prediction_train1['Y'], prediction_train1['Y'], label='Perfect prediction when dots on this line')\n",
    "plt.legend(loc=\"upper left\")\n",
    "plt.title('Compare Train and Prediction')\n",
    "plt.xlabel('Target Value: True Critical Temperature (k)')\n",
    "plt.ylabel('Predicted Critical Temperature')\n",
    "plt.show()"
   ]
  },
  {
   "cell_type": "code",
   "execution_count": 102,
   "metadata": {},
   "outputs": [
    {
     "data": {
      "image/png": "[encoded data removed]",
      "text/plain": [
       "<Figure size 432x288 with 1 Axes>"
      ]
     },
     "metadata": {
      "needs_background": "light"
     },
     "output_type": "display_data"
    }
   ],
   "source": [
    "nn2 = NeuralNet(layers=[Xtrain.shape[1], 5, 1],\n",
    "     learning_rate=0.001, iterations=100) # create the NN model\n",
    "nn2.fit(Xtrain, ytrain) #train the model\n",
    "nn2.plot_loss()"
   ]
  },
  {
   "cell_type": "code",
   "execution_count": 118,
   "metadata": {},
   "outputs": [
    {
     "name": "stdout",
     "output_type": "stream",
     "text": [
      "Train accuracy is 0\n",
      "Test accuracy is 0\n"
     ]
    }
   ],
   "source": [
    "train_pred2 = nn2.predict(Xtrain)\n",
    "test_pred2 = nn2.predict(Xtest)\n",
    "\n",
    "print(\"Train accuracy is {}\".format(nn2.acc(ytrain, train_pred2)))\n",
    "print(\"Test accuracy is {}\".format(nn2.acc(ytest, test_pred2)))"
   ]
  },
  {
   "cell_type": "code",
   "execution_count": 293,
   "metadata": {},
   "outputs": [
    {
     "name": "stdout",
     "output_type": "stream",
     "text": [
      "RMSE of NN on training dataset = 47.995\n",
      "R2 score = -inf\n"
     ]
    },
    {
     "name": "stderr",
     "output_type": "stream",
     "text": [
      "C:\\Users\\youyu\\AppData\\Local\\Temp/ipykernel_31640/1011046090.py:3: RuntimeWarning: divide by zero encountered in true_divide\n",
      "  r2_train2= 1-sum(cost_train2)/sum((np.array(train_pred2.reshape(train_pred2.shape[0]))-sum(np.array(train_pred2.reshape(train_pred2.shape[0])))/len(np.array(train_pred2)))**2)\n"
     ]
    }
   ],
   "source": [
    "cost_train2 = (ytrain-train_pred2)**2\n",
    "rmse_train2 = np.sqrt(sum(cost_train2)/len(cost_train2))\n",
    "r2_train2= 1-sum(cost_train2)/sum((np.array(train_pred2.reshape(train_pred2.shape[0]))-sum(np.array(train_pred2.reshape(train_pred2.shape[0])))/len(np.array(train_pred2)))**2)\n",
    "\n",
    "print(f'RMSE of NN on training dataset = {round(rmse_train2[0],3)}')\n",
    "print(f'R2 score = {round(r2_train2[0],3)}')"
   ]
  },
  {
   "cell_type": "code",
   "execution_count": 276,
   "metadata": {},
   "outputs": [
    {
     "data": {
      "image/png": "[encoded data removed]",
      "text/plain": [
       "<Figure size 432x288 with 1 Axes>"
      ]
     },
     "metadata": {
      "needs_background": "light"
     },
     "output_type": "display_data"
    }
   ],
   "source": [
    "cost_train2 = (ytrain-train_pred2)**2\n",
    "prediction_train2 = pd.DataFrame({\"Y\": ytrue_train, \n",
    "    \"Y_predict\": train_pred2.reshape(train_pred2.shape[0]),\n",
    "    \"cost\":cost_train2.reshape(cost_train2.shape[0])})\n",
    "\n",
    "plt.scatter(prediction_train2['Y'], prediction_train2['Y_predict'], label='Prediction')\n",
    "plt.plot(prediction_train2['Y'], prediction_train2['Y'], label='Perfect prediction when dots on this line')\n",
    "plt.legend(loc=\"upper left\")\n",
    "plt.title('Compare Train and Prediction')\n",
    "plt.xlabel('Target Value: True Critical Temperature (k)')\n",
    "plt.ylabel('Predicted Critical Temperature')\n",
    "plt.show()"
   ]
  },
  {
   "cell_type": "markdown",
   "metadata": {},
   "source": [
    "The NNs above use 1 hidden layer with 10 and 5 nodes between. The first activation function is ReLU and the second one is sigmoid function. With the current project data cleaning process and modeling, the outcome accuracy is 0. The activation functions did not work in this example. The prediction accuracy and the RMSE, R2 score did not fit the data at all.  All the prediction values are 0, which is not the prediction value should be. \n",
    "\n",
    "At this time, we can conclude that the neural network with ReLU and sigmoid functions are not ideal for critical temperature prediction in this case. "
   ]
  },
  {
   "cell_type": "markdown",
   "metadata": {},
   "source": [
    "#### 2. Show the model performance with two different activation functions\n",
    "\n",
    "This part will use tanh and linear activation function to fit and predict."
   ]
  },
  {
   "cell_type": "code",
   "execution_count": 270,
   "metadata": {},
   "outputs": [],
   "source": [
    "nn3 = NeuralNet(layers=[Xtrain.shape[1], 5, 1],\n",
    "     learning_rate=0.001, iterations=100) # create the NN model\n",
    "nn3.fit2(Xtrain, ytrain) #train the model"
   ]
  },
  {
   "cell_type": "code",
   "execution_count": 271,
   "metadata": {},
   "outputs": [
    {
     "name": "stdout",
     "output_type": "stream",
     "text": [
      "Train accuracy is 0\n",
      "Test accuracy is 0\n"
     ]
    }
   ],
   "source": [
    "train_pred3 = nn3.predict2(Xtrain)\n",
    "test_pred3 = nn3.predict2(Xtest)\n",
    "\n",
    "print(\"Train accuracy is {}\".format(nn1.acc(ytrain, train_pred3)))\n",
    "print(\"Test accuracy is {}\".format(nn1.acc(ytest, test_pred3)))"
   ]
  },
  {
   "cell_type": "code",
   "execution_count": 273,
   "metadata": {},
   "outputs": [
    {
     "name": "stdout",
     "output_type": "stream",
     "text": [
      "RMSE of tanh&linear model on training dataset = 45.302\n",
      "R2 score = -8648.547\n"
     ]
    }
   ],
   "source": [
    "cost_train3 = (ytrain-train_pred3)**2\n",
    "rmse_train3 = np.sqrt(sum(cost_train3)/len(cost_train3))\n",
    "r2_train3= 1-sum(cost_train3)/sum((np.array(train_pred3.reshape(train_pred3.shape[0]))-sum(np.array(train_pred3.reshape(train_pred3.shape[0])))/len(np.array(train_pred3.reshape(train_pred3.shape[0]))))**2)\n",
    "\n",
    "print(f'RMSE of tanh&linear model on training dataset = {round(rmse_train3[0],3)}')\n",
    "print(f'R2 score = {round(r2_train3[0],3)}')"
   ]
  },
  {
   "cell_type": "code",
   "execution_count": 278,
   "metadata": {},
   "outputs": [
    {
     "data": {
      "image/png": "[encoded data removed]",
      "text/plain": [
       "<Figure size 432x288 with 1 Axes>"
      ]
     },
     "metadata": {
      "needs_background": "light"
     },
     "output_type": "display_data"
    }
   ],
   "source": [
    "prediction_train3 = pd.DataFrame({\"Y\": ytrue_train, \n",
    "    \"Y_predict\": train_pred3.reshape(train_pred3.shape[0]),\n",
    "    \"cost\":cost_train3.reshape(cost_train3.shape[0])})\n",
    "\n",
    "plt.scatter(prediction_train3['Y'], prediction_train3['Y_predict'], label='Prediction')\n",
    "plt.plot(prediction_train3['Y'], prediction_train3['Y'], label='Perfect prediction when dots on this line')\n",
    "plt.legend(loc=\"upper left\")\n",
    "plt.title('Compare Train and Prediction')\n",
    "plt.xlabel('Target Value: True Critical Temperature (k)')\n",
    "plt.ylabel('Predicted Critical Temperature')\n",
    "plt.show()"
   ]
  },
  {
   "cell_type": "code",
   "execution_count": 283,
   "metadata": {},
   "outputs": [
    {
     "data": {
      "text/html": [
       "<div>\n",
       "<style scoped>\n",
       "    .dataframe tbody tr th:only-of-type {\n",
       "        vertical-align: middle;\n",
       "    }\n",
       "\n",
       "    .dataframe tbody tr th {\n",
       "        vertical-align: top;\n",
       "    }\n",
       "\n",
       "    .dataframe thead th {\n",
       "        text-align: right;\n",
       "    }\n",
       "</style>\n",
       "<table border=\"1\" class=\"dataframe\">\n",
       "  <thead>\n",
       "    <tr style=\"text-align: right;\">\n",
       "      <th></th>\n",
       "      <th>Y</th>\n",
       "      <th>Y_predict</th>\n",
       "      <th>cost</th>\n",
       "    </tr>\n",
       "  </thead>\n",
       "  <tbody>\n",
       "    <tr>\n",
       "      <th>11065</th>\n",
       "      <td>0.50</td>\n",
       "      <td>5.0</td>\n",
       "      <td>20.2500</td>\n",
       "    </tr>\n",
       "    <tr>\n",
       "      <th>5689</th>\n",
       "      <td>40.00</td>\n",
       "      <td>5.0</td>\n",
       "      <td>1225.0000</td>\n",
       "    </tr>\n",
       "    <tr>\n",
       "      <th>2176</th>\n",
       "      <td>84.00</td>\n",
       "      <td>5.0</td>\n",
       "      <td>6241.0000</td>\n",
       "    </tr>\n",
       "    <tr>\n",
       "      <th>9595</th>\n",
       "      <td>32.20</td>\n",
       "      <td>5.0</td>\n",
       "      <td>739.8400</td>\n",
       "    </tr>\n",
       "    <tr>\n",
       "      <th>9034</th>\n",
       "      <td>78.10</td>\n",
       "      <td>5.0</td>\n",
       "      <td>5343.6100</td>\n",
       "    </tr>\n",
       "    <tr>\n",
       "      <th>...</th>\n",
       "      <td>...</td>\n",
       "      <td>...</td>\n",
       "      <td>...</td>\n",
       "    </tr>\n",
       "    <tr>\n",
       "      <th>1099</th>\n",
       "      <td>92.50</td>\n",
       "      <td>5.0</td>\n",
       "      <td>7656.2500</td>\n",
       "    </tr>\n",
       "    <tr>\n",
       "      <th>18898</th>\n",
       "      <td>17.10</td>\n",
       "      <td>5.0</td>\n",
       "      <td>146.4100</td>\n",
       "    </tr>\n",
       "    <tr>\n",
       "      <th>11798</th>\n",
       "      <td>0.21</td>\n",
       "      <td>5.0</td>\n",
       "      <td>22.9441</td>\n",
       "    </tr>\n",
       "    <tr>\n",
       "      <th>6637</th>\n",
       "      <td>88.40</td>\n",
       "      <td>5.0</td>\n",
       "      <td>6955.5600</td>\n",
       "    </tr>\n",
       "    <tr>\n",
       "      <th>2575</th>\n",
       "      <td>56.00</td>\n",
       "      <td>5.0</td>\n",
       "      <td>2601.0000</td>\n",
       "    </tr>\n",
       "  </tbody>\n",
       "</table>\n",
       "<p>17010 rows × 3 columns</p>\n",
       "</div>"
      ],
      "text/plain": [
       "           Y  Y_predict       cost\n",
       "11065   0.50        5.0    20.2500\n",
       "5689   40.00        5.0  1225.0000\n",
       "2176   84.00        5.0  6241.0000\n",
       "9595   32.20        5.0   739.8400\n",
       "9034   78.10        5.0  5343.6100\n",
       "...      ...        ...        ...\n",
       "1099   92.50        5.0  7656.2500\n",
       "18898  17.10        5.0   146.4100\n",
       "11798   0.21        5.0    22.9441\n",
       "6637   88.40        5.0  6955.5600\n",
       "2575   56.00        5.0  2601.0000\n",
       "\n",
       "[17010 rows x 3 columns]"
      ]
     },
     "execution_count": 283,
     "metadata": {},
     "output_type": "execute_result"
    }
   ],
   "source": [
    "prediction_train3"
   ]
  },
  {
   "cell_type": "markdown",
   "metadata": {},
   "source": [
    "The prediction does not look good. The prediction maximum is obviously lower than most of the true values. R2 score indicated that the prediction did not correspond to the trend of true values. The tanh activation function would predict all the observations into similar values. The back_propagation part does not work well on the process. \n",
    "\n",
    "Overall, this model did not able to find the pattern of the dataset."
   ]
  },
  {
   "cell_type": "markdown",
   "metadata": {},
   "source": [
    "#### 3. Show your output with Stochastic gradient and gradient optimization methods."
   ]
  },
  {
   "cell_type": "code",
   "execution_count": 161,
   "metadata": {},
   "outputs": [
    {
     "data": {
      "image/png": "[encoded data removed]",
      "text/plain": [
       "<Figure size 432x288 with 1 Axes>"
      ]
     },
     "metadata": {
      "needs_background": "light"
     },
     "output_type": "display_data"
    },
    {
     "name": "stdout",
     "output_type": "stream",
     "text": [
      "theta: [ 4.28373448e-06  4.58476446e-05  2.55660243e-05  3.46612158e-05\n",
      "  1.71958529e-05  1.14855344e-06  1.18682683e-06  9.83444301e-05\n",
      " -1.76314887e-06  3.06157297e-05  2.68670590e-05  4.85161081e-04\n",
      "  6.39253830e-04  4.46486677e-04  5.87097899e-04  1.21698200e-06\n",
      "  8.03429365e-07  6.90900047e-04  4.24039681e-04  2.34856291e-04\n",
      "  2.68552870e-04  1.10509265e-04  7.68704186e-05  9.18817539e-05\n",
      "  5.71719086e-05  1.18826832e-06  1.16217412e-06  1.71316164e-04\n",
      "  1.16104343e-05  5.52631860e-05  5.93801947e-05  9.21426742e-04\n",
      "  2.46493217e-04 -1.61890761e-03 -1.81532933e-03  1.04654406e-06\n",
      "  7.74071086e-07  3.03312402e-03  4.12477654e-05  5.64908566e-04\n",
      "  1.00955934e-03  2.86184189e-05  5.72653985e-05  4.11645611e-06\n",
      "  3.05874224e-05  9.15476827e-07  5.50913574e-07  9.28117990e-05\n",
      "  4.24727152e-05  3.69192053e-05  3.59176700e-05 -3.73149518e-07\n",
      " -2.50373399e-06 -2.41806502e-06 -4.32845394e-06  1.12292261e-06\n",
      "  9.75433869e-07  3.58727204e-06 -1.68232058e-06  1.85843930e-07\n",
      "  2.12395306e-07  9.25989528e-05  1.01166377e-04 -5.42177960e-06\n",
      " -1.09565621e-05  4.86113518e-07  1.96649657e-07  3.98529969e-04\n",
      "  9.29446099e-05  1.49446657e-04  1.67112783e-04  5.82112993e-07\n",
      "  3.32542395e-07  6.29754316e-07  3.92258184e-07  1.27107164e-06\n",
      "  1.07234221e-06  2.04878585e-07  4.95048011e-08  3.91097713e-08\n",
      " -1.11915502e-07]\n"
     ]
    }
   ],
   "source": [
    "# Define the model parameters\n",
    "learning_rate = 5e-11\n",
    "num_epochs = 1000\n",
    "\n",
    "# Initialize the model coefficients\n",
    "theta = np.zeros(Xtrain.shape[1])\n",
    "\n",
    "# Define the SGD model\n",
    "def model(X, theta):\n",
    "  return X @ theta\n",
    "\n",
    "# Define the loss function\n",
    "def loss(X, y, theta_0, theta_1):\n",
    "  return 1 / len(X) * sum((model(X, theta_0, theta_1) - y) ** 2)\n",
    "\n",
    "# Define the gradient descent step\n",
    "def step(X, y, theta, learning_rate):\n",
    "  gradients = 2 / len(X) * X.T @ (model(X, theta) - y)\n",
    "  theta -= learning_rate * gradients\n",
    "  return theta\n",
    "\n",
    "# Perform gradient descent\n",
    "for epoch in range(num_epochs):\n",
    "    theta= step(Xtrain, ytrain.reshape(ytrain.shape[0]), theta, learning_rate)\n",
    "\n",
    "# Plot the data and the model predictions\n",
    "plt.scatter(ytrain.reshape(ytrain.shape[0]),\n",
    "    ytrain.reshape(ytrain.shape[0]),\n",
    "    color='blue')\n",
    "plt.scatter(ytrain.reshape(ytrain.shape[0]), model(Xtrain, theta), color='red')\n",
    "plt.xlabel('Ytrain')\n",
    "plt.ylabel('Y')\n",
    "plt.show()\n",
    "\n",
    "# Print coefs\n",
    "print('theta:', theta)"
   ]
  },
  {
   "cell_type": "code",
   "execution_count": 189,
   "metadata": {},
   "outputs": [
    {
     "name": "stdout",
     "output_type": "stream",
     "text": [
      "RMSE of stochastic gradient model on training dataset = 30.897\n",
      "R2 score = -1.209\n"
     ]
    }
   ],
   "source": [
    "train_pred4 = model(Xtrain, theta)\n",
    "test_pred4 = model(Xtest, theta)\n",
    "\n",
    "cost_train4 = (ytrain.reshape(ytrain.shape[0])-train_pred4)**2\n",
    "rmse_train4 = np.sqrt(sum(cost_train4)/len(cost_train4))\n",
    "r2_train4= 1-sum(cost_train4)/sum((np.array(train_pred4)-sum(np.array(train_pred4))/len(np.array(train_pred4)))**2)\n",
    "\n",
    "print(f'RMSE of stochastic gradient model on training dataset = {round(rmse_train4,3)}')\n",
    "print(f'R2 score = {round(r2_train4,3)}')"
   ]
  },
  {
   "cell_type": "markdown",
   "metadata": {},
   "source": [
    "The RMSE means that the cost of the prediction is not high, but R2 score indicated that the prediction values are not corresponding to the true patterns.The distribution of predicted values indicated that the model catched the target values' feature, but failed to find the relationships between X and Y. This could occured especially when X has too many columns while the most correlated features were not emphasized. "
   ]
  }
 ],
 "metadata": {
  "kernelspec": {
   "display_name": "Python 3.8.8 64-bit",
   "language": "python",
   "name": "python3"
  },
  "language_info": {
   "codemirror_mode": {
    "name": "ipython",
    "version": 3
   },
   "file_extension": ".py",
   "mimetype": "text/x-python",
   "name": "python",
   "nbconvert_exporter": "python",
   "pygments_lexer": "ipython3",
   "version": "3.8.8"
  },
  "orig_nbformat": 4,
  "vscode": {
   "interpreter": {
    "hash": "82f6ad5c16f96bd4c09885635dc45a9905d4ac7b1c081542d45b0fe5279d5fc5"
   }
  }
 },
 "nbformat": 4,
 "nbformat_minor": 2
}
